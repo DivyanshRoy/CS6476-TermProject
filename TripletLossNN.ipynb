{
 "cells": [
  {
   "cell_type": "code",
   "execution_count": 0,
   "metadata": {
    "colab": {},
    "colab_type": "code",
    "id": "MQ1zuuynATQn"
   },
   "outputs": [],
   "source": [
    "import numpy as np\n",
    "from sklearn.metrics import roc_curve\n",
    "from sklearn.neighbors import KNeighborsClassifier\n",
    "import random\n",
    "import matplotlib.patheffects as PathEffects"
   ]
  },
  {
   "cell_type": "code",
   "execution_count": 0,
   "metadata": {
    "colab": {
     "base_uri": "https://localhost:8080/",
     "height": 80
    },
    "colab_type": "code",
    "id": "ulBgCKBVAV20",
    "outputId": "998e6a8d-2d86-4895-c8b5-afb2050233b7"
   },
   "outputs": [
    {
     "name": "stderr",
     "output_type": "stream",
     "text": [
      "Using TensorFlow backend.\n"
     ]
    },
    {
     "data": {
      "text/html": [
       "<p style=\"color: red;\">\n",
       "The default version of TensorFlow in Colab will soon switch to TensorFlow 2.x.<br>\n",
       "We recommend you <a href=\"https://www.tensorflow.org/guide/migrate\" target=\"_blank\">upgrade</a> now \n",
       "or ensure your notebook will continue to use TensorFlow 1.x via the <code>%tensorflow_version 1.x</code> magic:\n",
       "<a href=\"https://colab.research.google.com/notebooks/tensorflow_version.ipynb\" target=\"_blank\">more info</a>.</p>\n"
      ],
      "text/plain": [
       "<IPython.core.display.HTML object>"
      ]
     },
     "metadata": {
      "tags": []
     },
     "output_type": "display_data"
    }
   ],
   "source": [
    "from keras.layers import Input, Conv2D, Lambda, Dense, Flatten,MaxPooling2D, concatenate\n",
    "from keras.models import Model, Sequential\n",
    "from keras.regularizers import l2\n",
    "from keras import backend as K\n",
    "from keras.optimizers import SGD,Adam\n",
    "from keras.losses import binary_crossentropy\n",
    "import os\n",
    "import pickle\n",
    "import matplotlib.pyplot as plt"
   ]
  },
  {
   "cell_type": "code",
   "execution_count": 0,
   "metadata": {
    "colab": {
     "base_uri": "https://localhost:8080/",
     "height": 122
    },
    "colab_type": "code",
    "id": "IpYQOgzTxsf6",
    "outputId": "f3c948c3-d97e-4dfd-a514-8029203885ed"
   },
   "outputs": [
    {
     "name": "stdout",
     "output_type": "stream",
     "text": [
      "Go to this URL in a browser: https://accounts.google.com/o/oauth2/auth?client_id=947318989803-6bn6qk8qdgf4n4g3pfee6491hc0brc4i.apps.googleusercontent.com&redirect_uri=urn%3aietf%3awg%3aoauth%3a2.0%3aoob&response_type=code&scope=email%20https%3a%2f%2fwww.googleapis.com%2fauth%2fdocs.test%20https%3a%2f%2fwww.googleapis.com%2fauth%2fdrive%20https%3a%2f%2fwww.googleapis.com%2fauth%2fdrive.photos.readonly%20https%3a%2f%2fwww.googleapis.com%2fauth%2fpeopleapi.readonly\n",
      "\n",
      "Enter your authorization code:\n",
      "··········\n",
      "Mounted at /content/drive\n"
     ]
    }
   ],
   "source": [
    "from google.colab import drive\n",
    "drive.mount('/content/drive')"
   ]
  },
  {
   "cell_type": "code",
   "execution_count": 0,
   "metadata": {
    "colab": {},
    "colab_type": "code",
    "id": "DQZMk9UmAZRe"
   },
   "outputs": [],
   "source": [
    "from itertools import permutations\n",
    "import seaborn as sns\n",
    "from keras.datasets import mnist\n",
    "from sklearn.manifold import TSNE\n",
    "from sklearn.svm import SVC\n",
    "import json\n"
   ]
  },
  {
   "cell_type": "code",
   "execution_count": 0,
   "metadata": {
    "colab": {},
    "colab_type": "code",
    "id": "-A-GMIBWyN-n"
   },
   "outputs": [],
   "source": [
    "X_train=np.load('/content/drive/My Drive/X_train_with_glove.npy')\n",
    "X_test=np.load('/content/drive/My Drive/X_test_with_glove.npy')\n",
    "\n",
    "y_train=np.load('/content/drive/My Drive/y_train_with_glove.npy')\n",
    "y_test=np.load('/content/drive/My Drive/y_test_with_glove.npy')"
   ]
  },
  {
   "cell_type": "code",
   "execution_count": 0,
   "metadata": {
    "colab": {
     "base_uri": "https://localhost:8080/",
     "height": 85
    },
    "colab_type": "code",
    "id": "V5zIQHG7IMlz",
    "outputId": "7e6812e5-34f6-4db6-fff1-7a7c6c2a4926"
   },
   "outputs": [
    {
     "name": "stdout",
     "output_type": "stream",
     "text": [
      "(3248, 3, 10100)\n",
      "(458, 3, 10100)\n",
      "(3248,)\n",
      "(458,)\n"
     ]
    }
   ],
   "source": [
    "print(X_train.shape)\n",
    "print(X_test.shape)\n",
    "\n",
    "print(y_train.shape)\n",
    "print(y_test.shape)"
   ]
  },
  {
   "cell_type": "code",
   "execution_count": 0,
   "metadata": {
    "colab": {},
    "colab_type": "code",
    "id": "KZMKUKSPArMH"
   },
   "outputs": [],
   "source": [
    "def triplet_loss(y_true, y_pred, alpha = 0.4):\n",
    "    \"\"\"\n",
    "    Implementation of the triplet loss function\n",
    "    Arguments:\n",
    "    y_true -- true labels, required when you define a loss in Keras, you don't need it in this function.\n",
    "    y_pred -- python list containing three objects:\n",
    "            anchor -- the encodings for the anchor data\n",
    "            positive -- the encodings for the positive data (similar to anchor)\n",
    "            negative -- the encodings for the negative data (different from anchor)\n",
    "    Returns:\n",
    "    loss -- real number, value of the loss\n",
    "    \"\"\"\n",
    "\n",
    "    print('y_pred.shape = ',y_pred)\n",
    "    \n",
    "    total_length = y_pred.shape.as_list()[-1]\n",
    "    anchor = y_pred[:,0:int(total_length*1/3)]\n",
    "    positive = y_pred[:,int(total_length*1/3):int(total_length*2/3)]\n",
    "    negative = y_pred[:,int(total_length*2/3):int(total_length*3/3)]\n",
    "\n",
    "    # distance between the anchor and the positive\n",
    "    pos_dist = K.sum(K.square(anchor-positive),axis=1)\n",
    "\n",
    "    # distance between the anchor and the negative\n",
    "    neg_dist = K.sum(K.square(anchor-negative),axis=1)\n",
    "\n",
    "    # compute loss\n",
    "    basic_loss = pos_dist-neg_dist+alpha\n",
    "    loss = K.maximum(basic_loss,0.0)\n",
    " \n",
    "    return loss"
   ]
  },
  {
   "cell_type": "code",
   "execution_count": 0,
   "metadata": {
    "colab": {},
    "colab_type": "code",
    "id": "l5seI1_7At6l"
   },
   "outputs": [],
   "source": [
    "\n",
    "def create_base_network(in_dims,a_dims,b_dims):\n",
    "    \"\"\"\n",
    "    Base network to be shared.\n",
    "    \"\"\"\n",
    "    inputs=Input(shape=(100,100,1),name=\"inputs\")\n",
    "    features_sub=Input(shape=(50,),name=\"sub_features\")\n",
    "    features_ob=Input(shape=(50,),name=\"ob_features\")\n",
    "    hidden1=Conv2D(16,(3,3),padding=\"same\",activation=\"relu\")(inputs)\n",
    "    pool1=MaxPooling2D((2,2),padding=\"same\")(hidden1)\n",
    "    hidden2=Conv2D(64,(3,3),padding=\"same\",activation=\"relu\")(pool1)\n",
    "    pool2=MaxPooling2D((2,2),padding=\"same\")(hidden2)\n",
    "    hidden3=Conv2D(128,(3,3),padding=\"same\",activation=\"relu\")(pool2)\n",
    "    pool3=MaxPooling2D((2,2),padding=\"same\")(hidden3)\n",
    "    hidden4=Conv2D(256,(3,3),padding=\"same\",activation=\"relu\")(pool3)\n",
    "    pool4=MaxPooling2D((2,2),padding=\"same\")(hidden4)\n",
    "    flat_features=Flatten(name=\"Flatten\")(pool4)\n",
    "    merged=concatenate([flat_features,features_sub,features_ob])\n",
    "    output=Dense(15,name=\"embedding\")(merged)\n",
    "    model=Model(inputs=[inputs,features_sub,features_ob],outputs=output)\n",
    "    return model\n",
    "  "
   ]
  },
  {
   "cell_type": "code",
   "execution_count": 0,
   "metadata": {
    "colab": {},
    "colab_type": "code",
    "id": "gvTVkudIAwwb"
   },
   "outputs": [],
   "source": [
    "adam_optim = Adam(lr=0.0001, beta_1=0.9, beta_2=0.999)"
   ]
  },
  {
   "cell_type": "code",
   "execution_count": 0,
   "metadata": {
    "colab": {},
    "colab_type": "code",
    "id": "RN-pZxqVoG5P"
   },
   "outputs": [],
   "source": [
    "from keras import backend as K\n",
    "\n",
    "def recall_m(y_true, y_pred):\n",
    "        true_positives = K.sum(K.round(K.clip(y_true * y_pred, 0, 1)))\n",
    "        possible_positives = K.sum(K.round(K.clip(y_true, 0, 1)))\n",
    "        recall = true_positives / (possible_positives + K.epsilon())\n",
    "        return recall\n",
    "\n",
    "def precision_m(y_true, y_pred):\n",
    "        true_positives = K.sum(K.round(K.clip(y_true * y_pred, 0, 1)))\n",
    "        predicted_positives = K.sum(K.round(K.clip(y_pred, 0, 1)))\n",
    "        precision = true_positives / (predicted_positives + K.epsilon())\n",
    "        return precision\n",
    "\n",
    "def f1_m(y_true, y_pred):\n",
    "    precision = precision_m(y_true, y_pred)\n",
    "    recall = recall_m(y_true, y_pred)\n",
    "    return 2*((precision*recall)/(precision+recall+K.epsilon()))"
   ]
  },
  {
   "cell_type": "code",
   "execution_count": 0,
   "metadata": {
    "colab": {
     "base_uri": "https://localhost:8080/",
     "height": 85
    },
    "colab_type": "code",
    "id": "uogAkcoLAztE",
    "outputId": "a163d760-fddd-481b-8e74-7b7ab0afcb7f"
   },
   "outputs": [
    {
     "name": "stdout",
     "output_type": "stream",
     "text": [
      "(?, 15)\n",
      "(?, 15)\n",
      "(?, 15)\n",
      "y_pred.shape =  Tensor(\"merged_layer_3/concat:0\", shape=(?, 45), dtype=float32)\n"
     ]
    }
   ],
   "source": [
    "anchor_input = Input((100,100,1,), name='anchor_input')\n",
    "positive_input = Input((100,100,1, ), name='positive_input')\n",
    "negative_input = Input((100,100,1, ), name='negative_input')\n",
    "\n",
    "anchor_sub=Input((50,),name=\"anchor_sub\")\n",
    "positive_sub=Input((50,),name=\"positive_sub\")\n",
    "negative_sub=Input((50,),name=\"negative_sub\")\n",
    "\n",
    "anchor_ob=Input((50,),name=\"anchor_ob\")\n",
    "positive_ob=Input((50,),name=\"positive_ob\")\n",
    "negative_ob=Input((50,),name=\"negative_ob\")\n",
    "\n",
    "# Shared embedding layer for positive and negative items\n",
    "Shared_DNN = create_base_network([100,100,1],[50],[50])\n",
    "encoded_anchor = Shared_DNN(inputs=[anchor_input,anchor_sub,anchor_ob])\n",
    "encoded_positive = Shared_DNN(inputs=[positive_input,positive_sub,positive_ob])\n",
    "encoded_negative = Shared_DNN(inputs=[negative_input,negative_sub,negative_ob])\n",
    "print(encoded_anchor.shape)\n",
    "print(encoded_positive.shape)\n",
    "print(encoded_negative.shape)\n",
    "\n",
    "merged_vector = concatenate([encoded_anchor, encoded_positive, encoded_negative], axis=-1, name='merged_layer')\n",
    "\n",
    "model = Model(inputs=[anchor_input,positive_input,negative_input,anchor_sub,positive_sub,negative_sub,anchor_ob,positive_ob,negative_ob], outputs=merged_vector)\n",
    "model.compile(loss=triplet_loss, optimizer=adam_optim,metrics=['accuracy',f1_m,recall_m,precision_m])"
   ]
  },
  {
   "cell_type": "code",
   "execution_count": 0,
   "metadata": {
    "colab": {
     "base_uri": "https://localhost:8080/",
     "height": 697
    },
    "colab_type": "code",
    "id": "xdQnybnkA3iJ",
    "outputId": "159b7a65-af8b-40cd-d503-bb1db15ac92d"
   },
   "outputs": [
    {
     "name": "stdout",
     "output_type": "stream",
     "text": [
      "Model: \"model_10\"\n",
      "__________________________________________________________________________________________________\n",
      "Layer (type)                    Output Shape         Param #     Connected to                     \n",
      "==================================================================================================\n",
      "anchor_input (InputLayer)       (None, 100, 100, 1)  0                                            \n",
      "__________________________________________________________________________________________________\n",
      "anchor_sub (InputLayer)         (None, 50)           0                                            \n",
      "__________________________________________________________________________________________________\n",
      "anchor_ob (InputLayer)          (None, 50)           0                                            \n",
      "__________________________________________________________________________________________________\n",
      "positive_input (InputLayer)     (None, 100, 100, 1)  0                                            \n",
      "__________________________________________________________________________________________________\n",
      "positive_sub (InputLayer)       (None, 50)           0                                            \n",
      "__________________________________________________________________________________________________\n",
      "positive_ob (InputLayer)        (None, 50)           0                                            \n",
      "__________________________________________________________________________________________________\n",
      "negative_input (InputLayer)     (None, 100, 100, 1)  0                                            \n",
      "__________________________________________________________________________________________________\n",
      "negative_sub (InputLayer)       (None, 50)           0                                            \n",
      "__________________________________________________________________________________________________\n",
      "negative_ob (InputLayer)        (None, 50)           0                                            \n",
      "__________________________________________________________________________________________________\n",
      "model_9 (Model)                 (None, 15)           568139      anchor_input[0][0]               \n",
      "                                                                 anchor_sub[0][0]                 \n",
      "                                                                 anchor_ob[0][0]                  \n",
      "                                                                 positive_input[0][0]             \n",
      "                                                                 positive_sub[0][0]               \n",
      "                                                                 positive_ob[0][0]                \n",
      "                                                                 negative_input[0][0]             \n",
      "                                                                 negative_sub[0][0]               \n",
      "                                                                 negative_ob[0][0]                \n",
      "__________________________________________________________________________________________________\n",
      "merged_layer (Concatenate)      (None, 45)           0           model_9[1][0]                    \n",
      "                                                                 model_9[2][0]                    \n",
      "                                                                 model_9[3][0]                    \n",
      "==================================================================================================\n",
      "Total params: 568,139\n",
      "Trainable params: 568,139\n",
      "Non-trainable params: 0\n",
      "__________________________________________________________________________________________________\n"
     ]
    }
   ],
   "source": [
    "model.summary()"
   ]
  },
  {
   "cell_type": "code",
   "execution_count": 0,
   "metadata": {
    "colab": {
     "base_uri": "https://localhost:8080/",
     "height": 1000
    },
    "colab_type": "code",
    "id": "FfxSRmuBA7Zi",
    "outputId": "eb000b72-9532-4f30-a980-cfefb2ba2a57"
   },
   "outputs": [
    {
     "name": "stdout",
     "output_type": "stream",
     "text": [
      "Train on 3248 samples, validate on 458 samples\n",
      "Epoch 1/200\n",
      "3248/3248 [==============================] - 4s 1ms/step - loss: 0.4555 - acc: 0.0169 - f1_m: 0.0000e+00 - recall_m: 0.0000e+00 - precision_m: 0.0000e+00 - val_loss: 0.4238 - val_acc: 0.0306 - val_f1_m: 43.1457 - val_recall_m: 21.5729 - val_precision_m: 4316375474.3057\n",
      "Epoch 2/200\n",
      "3248/3248 [==============================] - 3s 928us/step - loss: 0.4075 - acc: 0.0234 - f1_m: 0.0000e+00 - recall_m: 0.0000e+00 - precision_m: 0.0000e+00 - val_loss: 0.4162 - val_acc: 0.0480 - val_f1_m: 46.7708 - val_recall_m: 23.3854 - val_precision_m: 4734148417.9563\n",
      "Epoch 3/200\n",
      "3248/3248 [==============================] - 3s 929us/step - loss: 0.3593 - acc: 0.0607 - f1_m: 0.0000e+00 - recall_m: 0.0000e+00 - precision_m: 0.0000e+00 - val_loss: 0.4148 - val_acc: 0.0764 - val_f1_m: 45.8173 - val_recall_m: 23.0235 - val_precision_m: 3807772937.8515\n",
      "Epoch 4/200\n",
      "3248/3248 [==============================] - 3s 928us/step - loss: 0.3084 - acc: 0.0400 - f1_m: 0.0000e+00 - recall_m: 0.0000e+00 - precision_m: 0.0000e+00 - val_loss: 0.4163 - val_acc: 0.0393 - val_f1_m: 48.4865 - val_recall_m: 24.7782 - val_precision_m: 2736725037.7991\n",
      "Epoch 5/200\n",
      "3248/3248 [==============================] - 3s 946us/step - loss: 0.2598 - acc: 0.0296 - f1_m: 0.0000e+00 - recall_m: 0.0000e+00 - precision_m: 0.0000e+00 - val_loss: 0.4442 - val_acc: 0.0349 - val_f1_m: 29.4164 - val_recall_m: 24.1245 - val_precision_m: 56.4240\n",
      "Epoch 6/200\n",
      "3248/3248 [==============================] - 3s 922us/step - loss: 0.2169 - acc: 0.0351 - f1_m: 0.0000e+00 - recall_m: 0.0000e+00 - precision_m: 0.0000e+00 - val_loss: 0.4295 - val_acc: 0.0175 - val_f1_m: 23.7111 - val_recall_m: 23.5178 - val_precision_m: 29.4171\n",
      "Epoch 7/200\n",
      "3248/3248 [==============================] - 3s 944us/step - loss: 0.1801 - acc: 0.0182 - f1_m: 0.0000e+00 - recall_m: 0.0000e+00 - precision_m: 0.0000e+00 - val_loss: 0.4511 - val_acc: 0.0742 - val_f1_m: 24.7379 - val_recall_m: 24.7327 - val_precision_m: 29.3090\n",
      "Epoch 8/200\n",
      "3248/3248 [==============================] - 3s 926us/step - loss: 0.1404 - acc: 0.0351 - f1_m: 0.0000e+00 - recall_m: 0.0000e+00 - precision_m: 0.0000e+00 - val_loss: 0.4914 - val_acc: 0.0328 - val_f1_m: 12.0869 - val_recall_m: 25.5051 - val_precision_m: 8.3265\n",
      "Epoch 9/200\n",
      "3248/3248 [==============================] - 3s 928us/step - loss: 0.1155 - acc: 0.0262 - f1_m: 0.0000e+00 - recall_m: 0.0000e+00 - precision_m: 0.0000e+00 - val_loss: 0.4803 - val_acc: 0.0437 - val_f1_m: 14.2962 - val_recall_m: 24.9113 - val_precision_m: 10.7083\n",
      "Epoch 10/200\n",
      "3248/3248 [==============================] - 3s 934us/step - loss: 0.0856 - acc: 0.0428 - f1_m: 0.0000e+00 - recall_m: 0.0000e+00 - precision_m: 0.0000e+00 - val_loss: 0.5200 - val_acc: 0.1135 - val_f1_m: 10.0916 - val_recall_m: 25.3457 - val_precision_m: 6.5604\n",
      "Epoch 11/200\n",
      "3248/3248 [==============================] - 3s 917us/step - loss: 0.0606 - acc: 0.0751 - f1_m: 0.0000e+00 - recall_m: 0.0000e+00 - precision_m: 0.0000e+00 - val_loss: 0.5495 - val_acc: 0.1201 - val_f1_m: 8.3776 - val_recall_m: 26.0347 - val_precision_m: 5.1454\n",
      "Epoch 12/200\n",
      "3248/3248 [==============================] - 3s 939us/step - loss: 0.0435 - acc: 0.0659 - f1_m: 0.0000e+00 - recall_m: 0.0000e+00 - precision_m: 0.0000e+00 - val_loss: 0.5697 - val_acc: 0.0852 - val_f1_m: 6.9382 - val_recall_m: 24.3381 - val_precision_m: 4.1576\n",
      "Epoch 13/200\n",
      "3248/3248 [==============================] - 3s 934us/step - loss: 0.0316 - acc: 0.0711 - f1_m: 0.0000e+00 - recall_m: 0.0000e+00 - precision_m: 0.0000e+00 - val_loss: 0.5942 - val_acc: 0.1332 - val_f1_m: 7.5314 - val_recall_m: 23.5971 - val_precision_m: 4.6286\n",
      "Epoch 14/200\n",
      "3248/3248 [==============================] - 3s 925us/step - loss: 0.0251 - acc: 0.0674 - f1_m: 0.0000e+00 - recall_m: 0.0000e+00 - precision_m: 0.0000e+00 - val_loss: 0.6452 - val_acc: 0.0983 - val_f1_m: 6.5188 - val_recall_m: 24.8468 - val_precision_m: 3.8469\n",
      "Epoch 15/200\n",
      "3248/3248 [==============================] - 3s 943us/step - loss: 0.0193 - acc: 0.1093 - f1_m: 0.0000e+00 - recall_m: 0.0000e+00 - precision_m: 0.0000e+00 - val_loss: 0.6528 - val_acc: 0.1659 - val_f1_m: 5.2347 - val_recall_m: 24.6590 - val_precision_m: 2.9858\n",
      "Epoch 16/200\n",
      "3248/3248 [==============================] - 3s 912us/step - loss: 0.0147 - acc: 0.0760 - f1_m: 0.0000e+00 - recall_m: 0.0000e+00 - precision_m: 0.0000e+00 - val_loss: 0.6676 - val_acc: 0.1572 - val_f1_m: 5.6417 - val_recall_m: 24.8110 - val_precision_m: 3.2520\n",
      "Epoch 17/200\n",
      "3248/3248 [==============================] - 3s 942us/step - loss: 0.0102 - acc: 0.1001 - f1_m: 0.0000e+00 - recall_m: 0.0000e+00 - precision_m: 0.0000e+00 - val_loss: 0.6846 - val_acc: 0.0939 - val_f1_m: 5.1872 - val_recall_m: 24.4772 - val_precision_m: 2.9595\n",
      "Epoch 18/200\n",
      "3248/3248 [==============================] - 3s 932us/step - loss: 0.0102 - acc: 0.0616 - f1_m: 0.0000e+00 - recall_m: 0.0000e+00 - precision_m: 0.0000e+00 - val_loss: 0.7183 - val_acc: 0.0677 - val_f1_m: 4.9924 - val_recall_m: 24.8268 - val_precision_m: 2.8283\n",
      "Epoch 19/200\n",
      "3248/3248 [==============================] - 3s 929us/step - loss: 0.0083 - acc: 0.0736 - f1_m: 0.0000e+00 - recall_m: 0.0000e+00 - precision_m: 0.0000e+00 - val_loss: 0.7678 - val_acc: 0.1354 - val_f1_m: 4.2055 - val_recall_m: 25.0395 - val_precision_m: 2.3307\n",
      "Epoch 20/200\n",
      "3248/3248 [==============================] - 3s 932us/step - loss: 0.0084 - acc: 0.1059 - f1_m: 0.0000e+00 - recall_m: 0.0000e+00 - precision_m: 0.0000e+00 - val_loss: 0.7904 - val_acc: 0.1114 - val_f1_m: 4.1363 - val_recall_m: 24.7698 - val_precision_m: 2.2904\n",
      "Epoch 21/200\n",
      "3248/3248 [==============================] - 3s 931us/step - loss: 0.0074 - acc: 0.0751 - f1_m: 0.0000e+00 - recall_m: 0.0000e+00 - precision_m: 0.0000e+00 - val_loss: 0.7996 - val_acc: 0.1245 - val_f1_m: 4.2763 - val_recall_m: 25.8058 - val_precision_m: 2.3656\n",
      "Epoch 22/200\n",
      "3248/3248 [==============================] - 3s 933us/step - loss: 0.0073 - acc: 0.0711 - f1_m: 0.0000e+00 - recall_m: 0.0000e+00 - precision_m: 0.0000e+00 - val_loss: 0.7621 - val_acc: 0.0415 - val_f1_m: 4.5688 - val_recall_m: 25.7249 - val_precision_m: 2.5468\n",
      "Epoch 23/200\n",
      "3248/3248 [==============================] - 3s 939us/step - loss: 0.0036 - acc: 0.0822 - f1_m: 0.0000e+00 - recall_m: 0.0000e+00 - precision_m: 0.0000e+00 - val_loss: 0.8050 - val_acc: 0.1070 - val_f1_m: 4.0374 - val_recall_m: 25.5691 - val_precision_m: 2.2230\n",
      "Epoch 24/200\n",
      "3248/3248 [==============================] - 3s 910us/step - loss: 0.0066 - acc: 0.0585 - f1_m: 0.0000e+00 - recall_m: 0.0000e+00 - precision_m: 0.0000e+00 - val_loss: 0.8777 - val_acc: 0.1026 - val_f1_m: 3.3103 - val_recall_m: 24.0177 - val_precision_m: 1.8012\n",
      "Epoch 25/200\n",
      "3248/3248 [==============================] - 3s 948us/step - loss: 0.0093 - acc: 0.0502 - f1_m: 0.0000e+00 - recall_m: 0.0000e+00 - precision_m: 0.0000e+00 - val_loss: 0.8600 - val_acc: 0.1026 - val_f1_m: 4.2539 - val_recall_m: 25.5517 - val_precision_m: 2.3547\n",
      "Epoch 26/200\n",
      "3248/3248 [==============================] - 3s 918us/step - loss: 0.0110 - acc: 0.0385 - f1_m: 0.0000e+00 - recall_m: 0.0000e+00 - precision_m: 0.0000e+00 - val_loss: 0.9040 - val_acc: 0.0742 - val_f1_m: 4.3366 - val_recall_m: 23.7829 - val_precision_m: 2.4275\n",
      "Epoch 27/200\n",
      "3248/3248 [==============================] - 3s 941us/step - loss: 0.0095 - acc: 0.0419 - f1_m: 0.0000e+00 - recall_m: 0.0000e+00 - precision_m: 0.0000e+00 - val_loss: 0.8654 - val_acc: 0.0742 - val_f1_m: 4.7650 - val_recall_m: 23.5428 - val_precision_m: 2.7035\n",
      "Epoch 28/200\n",
      "3248/3248 [==============================] - 3s 914us/step - loss: 0.0077 - acc: 0.0351 - f1_m: 0.0000e+00 - recall_m: 0.0000e+00 - precision_m: 0.0000e+00 - val_loss: 0.8886 - val_acc: 0.0502 - val_f1_m: 4.1953 - val_recall_m: 24.3547 - val_precision_m: 2.3320\n",
      "Epoch 29/200\n",
      "3248/3248 [==============================] - 3s 917us/step - loss: 0.0082 - acc: 0.0259 - f1_m: 0.0000e+00 - recall_m: 0.0000e+00 - precision_m: 0.0000e+00 - val_loss: 0.8076 - val_acc: 0.0415 - val_f1_m: 4.9350 - val_recall_m: 24.0247 - val_precision_m: 2.8043\n",
      "Epoch 30/200\n",
      "3248/3248 [==============================] - 3s 944us/step - loss: 0.0050 - acc: 0.0271 - f1_m: 0.0000e+00 - recall_m: 0.0000e+00 - precision_m: 0.0000e+00 - val_loss: 0.8814 - val_acc: 0.0524 - val_f1_m: 4.7962 - val_recall_m: 23.6510 - val_precision_m: 2.7214\n",
      "Epoch 31/200\n",
      "3248/3248 [==============================] - 3s 917us/step - loss: 0.0036 - acc: 0.0366 - f1_m: 0.0000e+00 - recall_m: 0.0000e+00 - precision_m: 0.0000e+00 - val_loss: 0.9712 - val_acc: 0.1004 - val_f1_m: 4.0504 - val_recall_m: 24.9245 - val_precision_m: 2.2360\n",
      "Epoch 32/200\n",
      "3248/3248 [==============================] - 3s 942us/step - loss: 0.0077 - acc: 0.0739 - f1_m: 0.0000e+00 - recall_m: 0.0000e+00 - precision_m: 0.0000e+00 - val_loss: 0.8545 - val_acc: 0.1179 - val_f1_m: 4.1952 - val_recall_m: 24.1658 - val_precision_m: 2.3344\n",
      "Epoch 33/200\n",
      "3248/3248 [==============================] - 3s 923us/step - loss: 0.0037 - acc: 0.0693 - f1_m: 0.0000e+00 - recall_m: 0.0000e+00 - precision_m: 0.0000e+00 - val_loss: 0.9311 - val_acc: 0.1354 - val_f1_m: 3.6549 - val_recall_m: 24.6708 - val_precision_m: 2.0009\n",
      "Epoch 34/200\n",
      "3248/3248 [==============================] - 3s 931us/step - loss: 0.0036 - acc: 0.0779 - f1_m: 0.0000e+00 - recall_m: 0.0000e+00 - precision_m: 0.0000e+00 - val_loss: 0.8727 - val_acc: 0.1026 - val_f1_m: 4.8179 - val_recall_m: 23.9373 - val_precision_m: 2.7338\n",
      "Epoch 35/200\n",
      "3248/3248 [==============================] - 3s 919us/step - loss: 0.0018 - acc: 0.0576 - f1_m: 0.0000e+00 - recall_m: 0.0000e+00 - precision_m: 0.0000e+00 - val_loss: 0.9542 - val_acc: 0.1004 - val_f1_m: 4.3637 - val_recall_m: 24.3527 - val_precision_m: 2.4387\n",
      "Epoch 36/200\n",
      "3248/3248 [==============================] - 3s 910us/step - loss: 0.0019 - acc: 0.0539 - f1_m: 0.0000e+00 - recall_m: 0.0000e+00 - precision_m: 0.0000e+00 - val_loss: 1.0151 - val_acc: 0.0939 - val_f1_m: 3.6717 - val_recall_m: 24.4272 - val_precision_m: 2.0132\n",
      "Epoch 37/200\n",
      "3248/3248 [==============================] - 3s 943us/step - loss: 0.0049 - acc: 0.0637 - f1_m: 0.0000e+00 - recall_m: 0.0000e+00 - precision_m: 0.0000e+00 - val_loss: 0.9613 - val_acc: 0.1135 - val_f1_m: 4.1985 - val_recall_m: 24.3549 - val_precision_m: 2.3346\n",
      "Epoch 38/200\n",
      "3248/3248 [==============================] - 3s 920us/step - loss: 0.0069 - acc: 0.0560 - f1_m: 0.0000e+00 - recall_m: 0.0000e+00 - precision_m: 0.0000e+00 - val_loss: 1.0856 - val_acc: 0.1703 - val_f1_m: 3.6592 - val_recall_m: 24.1029 - val_precision_m: 2.0082\n",
      "Epoch 39/200\n",
      "3248/3248 [==============================] - 3s 929us/step - loss: 0.0119 - acc: 0.0671 - f1_m: 0.0000e+00 - recall_m: 0.0000e+00 - precision_m: 0.0000e+00 - val_loss: 0.9050 - val_acc: 0.1114 - val_f1_m: 4.1475 - val_recall_m: 23.9266 - val_precision_m: 2.3078\n",
      "Epoch 40/200\n",
      "3248/3248 [==============================] - 3s 921us/step - loss: 0.0045 - acc: 0.0567 - f1_m: 0.0000e+00 - recall_m: 0.0000e+00 - precision_m: 0.0000e+00 - val_loss: 1.0091 - val_acc: 0.1092 - val_f1_m: 3.8088 - val_recall_m: 23.4667 - val_precision_m: 2.1060\n",
      "Epoch 41/200\n",
      "3248/3248 [==============================] - 3s 910us/step - loss: 0.0055 - acc: 0.0779 - f1_m: 0.0000e+00 - recall_m: 0.0000e+00 - precision_m: 0.0000e+00 - val_loss: 1.0280 - val_acc: 0.0983 - val_f1_m: 3.8090 - val_recall_m: 23.1306 - val_precision_m: 2.1094\n",
      "Epoch 42/200\n",
      "3248/3248 [==============================] - 3s 938us/step - loss: 0.0077 - acc: 0.0702 - f1_m: 0.0000e+00 - recall_m: 0.0000e+00 - precision_m: 0.0000e+00 - val_loss: 0.9634 - val_acc: 0.0808 - val_f1_m: 3.8607 - val_recall_m: 24.2583 - val_precision_m: 2.1284\n",
      "Epoch 43/200\n",
      "3248/3248 [==============================] - 3s 927us/step - loss: 0.0037 - acc: 0.0862 - f1_m: 0.0000e+00 - recall_m: 0.0000e+00 - precision_m: 0.0000e+00 - val_loss: 1.0112 - val_acc: 0.1463 - val_f1_m: 3.8671 - val_recall_m: 24.1564 - val_precision_m: 2.1348\n",
      "Epoch 44/200\n",
      "3248/3248 [==============================] - 3s 949us/step - loss: 0.0019 - acc: 0.0884 - f1_m: 0.0000e+00 - recall_m: 0.0000e+00 - precision_m: 0.0000e+00 - val_loss: 1.0153 - val_acc: 0.1157 - val_f1_m: 3.8187 - val_recall_m: 23.8772 - val_precision_m: 2.1070\n",
      "Epoch 45/200\n",
      "3248/3248 [==============================] - 3s 913us/step - loss: 0.0028 - acc: 0.0859 - f1_m: 0.0000e+00 - recall_m: 0.0000e+00 - precision_m: 0.0000e+00 - val_loss: 1.0385 - val_acc: 0.1201 - val_f1_m: 3.2281 - val_recall_m: 24.9288 - val_precision_m: 1.7461\n",
      "Epoch 46/200\n",
      "3248/3248 [==============================] - 3s 919us/step - loss: 0.0033 - acc: 0.0720 - f1_m: 0.0000e+00 - recall_m: 0.0000e+00 - precision_m: 0.0000e+00 - val_loss: 1.1581 - val_acc: 0.0786 - val_f1_m: 3.3184 - val_recall_m: 24.8996 - val_precision_m: 1.7993\n",
      "Epoch 47/200\n",
      "3248/3248 [==============================] - 3s 909us/step - loss: 0.0042 - acc: 0.0647 - f1_m: 0.0000e+00 - recall_m: 0.0000e+00 - precision_m: 0.0000e+00 - val_loss: 1.1359 - val_acc: 0.0786 - val_f1_m: 3.3548 - val_recall_m: 24.9360 - val_precision_m: 1.8206\n",
      "Epoch 48/200\n",
      "3248/3248 [==============================] - 3s 956us/step - loss: 0.0052 - acc: 0.0545 - f1_m: 0.0000e+00 - recall_m: 0.0000e+00 - precision_m: 0.0000e+00 - val_loss: 1.1347 - val_acc: 0.0437 - val_f1_m: 3.3705 - val_recall_m: 24.7928 - val_precision_m: 1.8308\n",
      "Epoch 49/200\n",
      "3248/3248 [==============================] - 3s 925us/step - loss: 0.0023 - acc: 0.0305 - f1_m: 0.0000e+00 - recall_m: 0.0000e+00 - precision_m: 0.0000e+00 - val_loss: 1.0808 - val_acc: 0.0240 - val_f1_m: 3.8986 - val_recall_m: 24.2371 - val_precision_m: 2.1520\n",
      "Epoch 50/200\n",
      "3248/3248 [==============================] - 3s 923us/step - loss: 0.0066 - acc: 0.0277 - f1_m: 0.0000e+00 - recall_m: 0.0000e+00 - precision_m: 0.0000e+00 - val_loss: 1.0631 - val_acc: 0.0568 - val_f1_m: 3.9819 - val_recall_m: 23.4651 - val_precision_m: 2.2109\n",
      "Epoch 51/200\n",
      "3248/3248 [==============================] - 3s 902us/step - loss: 0.0014 - acc: 0.0379 - f1_m: 0.0000e+00 - recall_m: 0.0000e+00 - precision_m: 0.0000e+00 - val_loss: 1.1489 - val_acc: 0.0459 - val_f1_m: 3.4878 - val_recall_m: 23.5629 - val_precision_m: 1.9104\n",
      "Epoch 52/200\n",
      "3248/3248 [==============================] - 3s 926us/step - loss: 0.0036 - acc: 0.0169 - f1_m: 0.0000e+00 - recall_m: 0.0000e+00 - precision_m: 0.0000e+00 - val_loss: 1.1112 - val_acc: 0.0066 - val_f1_m: 3.3635 - val_recall_m: 23.9024 - val_precision_m: 1.8330\n",
      "Epoch 53/200\n",
      "3248/3248 [==============================] - 3s 948us/step - loss: 0.0038 - acc: 0.0102 - f1_m: 0.0000e+00 - recall_m: 0.0000e+00 - precision_m: 0.0000e+00 - val_loss: 1.1048 - val_acc: 0.0218 - val_f1_m: 3.6347 - val_recall_m: 23.8517 - val_precision_m: 1.9963\n",
      "Epoch 54/200\n",
      "3248/3248 [==============================] - 3s 943us/step - loss: 0.0054 - acc: 0.0151 - f1_m: 0.0000e+00 - recall_m: 0.0000e+00 - precision_m: 0.0000e+00 - val_loss: 1.1786 - val_acc: 0.0175 - val_f1_m: 3.0610 - val_recall_m: 24.3643 - val_precision_m: 1.6518\n",
      "Epoch 55/200\n",
      "3248/3248 [==============================] - 3s 903us/step - loss: 0.0030 - acc: 0.0209 - f1_m: 0.0000e+00 - recall_m: 0.0000e+00 - precision_m: 0.0000e+00 - val_loss: 1.1516 - val_acc: 0.0218 - val_f1_m: 3.1804 - val_recall_m: 23.3711 - val_precision_m: 1.7285\n",
      "Epoch 56/200\n",
      "3248/3248 [==============================] - 3s 921us/step - loss: 0.0027 - acc: 0.0385 - f1_m: 0.0000e+00 - recall_m: 0.0000e+00 - precision_m: 0.0000e+00 - val_loss: 1.2107 - val_acc: 0.0633 - val_f1_m: 3.2087 - val_recall_m: 23.6051 - val_precision_m: 1.7435\n",
      "Epoch 57/200\n",
      "3248/3248 [==============================] - 3s 918us/step - loss: 0.0048 - acc: 0.0446 - f1_m: 0.0000e+00 - recall_m: 0.0000e+00 - precision_m: 0.0000e+00 - val_loss: 1.2052 - val_acc: 0.0262 - val_f1_m: 3.3087 - val_recall_m: 23.7168 - val_precision_m: 1.8021\n",
      "Epoch 58/200\n",
      "3248/3248 [==============================] - 3s 936us/step - loss: 0.0034 - acc: 0.0289 - f1_m: 0.0000e+00 - recall_m: 0.0000e+00 - precision_m: 0.0000e+00 - val_loss: 1.1555 - val_acc: 0.0262 - val_f1_m: 3.1548 - val_recall_m: 24.5326 - val_precision_m: 1.7056\n",
      "Epoch 59/200\n",
      "3248/3248 [==============================] - 3s 928us/step - loss: 0.0042 - acc: 0.0286 - f1_m: 0.0000e+00 - recall_m: 0.0000e+00 - precision_m: 0.0000e+00 - val_loss: 1.0956 - val_acc: 0.0546 - val_f1_m: 3.2811 - val_recall_m: 24.5306 - val_precision_m: 1.7795\n",
      "Epoch 60/200\n",
      "3248/3248 [==============================] - 3s 918us/step - loss: 0.0048 - acc: 0.0354 - f1_m: 0.0000e+00 - recall_m: 0.0000e+00 - precision_m: 0.0000e+00 - val_loss: 1.1158 - val_acc: 0.0480 - val_f1_m: 3.1603 - val_recall_m: 24.0679 - val_precision_m: 1.7115\n",
      "Epoch 61/200\n",
      "3248/3248 [==============================] - 3s 914us/step - loss: 0.0025 - acc: 0.0493 - f1_m: 0.0000e+00 - recall_m: 0.0000e+00 - precision_m: 0.0000e+00 - val_loss: 1.2314 - val_acc: 0.0699 - val_f1_m: 3.0869 - val_recall_m: 24.1388 - val_precision_m: 1.6684\n",
      "Epoch 62/200\n",
      "3248/3248 [==============================] - 3s 917us/step - loss: 0.0048 - acc: 0.0431 - f1_m: 0.0000e+00 - recall_m: 0.0000e+00 - precision_m: 0.0000e+00 - val_loss: 1.2211 - val_acc: 0.0808 - val_f1_m: 3.1537 - val_recall_m: 24.2705 - val_precision_m: 1.7067\n",
      "Epoch 63/200\n",
      "3248/3248 [==============================] - 3s 936us/step - loss: 0.0035 - acc: 0.0776 - f1_m: 0.0000e+00 - recall_m: 0.0000e+00 - precision_m: 0.0000e+00 - val_loss: 1.0977 - val_acc: 0.0786 - val_f1_m: 3.1239 - val_recall_m: 24.4122 - val_precision_m: 1.6883\n",
      "Epoch 64/200\n",
      "3248/3248 [==============================] - 3s 955us/step - loss: 0.0038 - acc: 0.0634 - f1_m: 0.0000e+00 - recall_m: 0.0000e+00 - precision_m: 0.0000e+00 - val_loss: 1.2180 - val_acc: 0.1092 - val_f1_m: 3.1038 - val_recall_m: 24.8412 - val_precision_m: 1.6740\n",
      "Epoch 65/200\n",
      "3248/3248 [==============================] - 3s 913us/step - loss: 0.0048 - acc: 0.1093 - f1_m: 0.0000e+00 - recall_m: 0.0000e+00 - precision_m: 0.0000e+00 - val_loss: 1.1250 - val_acc: 0.1266 - val_f1_m: 3.2263 - val_recall_m: 24.3905 - val_precision_m: 1.7487\n",
      "Epoch 66/200\n",
      "3248/3248 [==============================] - 3s 926us/step - loss: 0.0021 - acc: 0.0973 - f1_m: 0.0000e+00 - recall_m: 0.0000e+00 - precision_m: 0.0000e+00 - val_loss: 1.2148 - val_acc: 0.1397 - val_f1_m: 3.1752 - val_recall_m: 24.0646 - val_precision_m: 1.7205\n",
      "Epoch 67/200\n",
      "3248/3248 [==============================] - 3s 912us/step - loss: 0.0038 - acc: 0.0727 - f1_m: 0.0000e+00 - recall_m: 0.0000e+00 - precision_m: 0.0000e+00 - val_loss: 1.1368 - val_acc: 0.0742 - val_f1_m: 3.4068 - val_recall_m: 24.6217 - val_precision_m: 1.8527\n",
      "Epoch 68/200\n",
      "3248/3248 [==============================] - 3s 945us/step - loss: 0.0017 - acc: 0.0459 - f1_m: 0.0000e+00 - recall_m: 0.0000e+00 - precision_m: 0.0000e+00 - val_loss: 1.3099 - val_acc: 0.0502 - val_f1_m: 3.0277 - val_recall_m: 24.7956 - val_precision_m: 1.6301\n",
      "Epoch 69/200\n",
      "3248/3248 [==============================] - 3s 927us/step - loss: 0.0021 - acc: 0.0594 - f1_m: 0.0000e+00 - recall_m: 0.0000e+00 - precision_m: 0.0000e+00 - val_loss: 1.2388 - val_acc: 0.1026 - val_f1_m: 3.3852 - val_recall_m: 23.9868 - val_precision_m: 1.8448\n",
      "Epoch 70/200\n",
      "3248/3248 [==============================] - 3s 920us/step - loss: 0.0034 - acc: 0.0683 - f1_m: 0.0000e+00 - recall_m: 0.0000e+00 - precision_m: 0.0000e+00 - val_loss: 1.2186 - val_acc: 0.1245 - val_f1_m: 3.1885 - val_recall_m: 24.9645 - val_precision_m: 1.7222\n",
      "Epoch 71/200\n",
      "3248/3248 [==============================] - 3s 913us/step - loss: 0.0033 - acc: 0.0634 - f1_m: 0.0000e+00 - recall_m: 0.0000e+00 - precision_m: 0.0000e+00 - val_loss: 1.3479 - val_acc: 0.0437 - val_f1_m: 2.9689 - val_recall_m: 24.4208 - val_precision_m: 1.5982\n",
      "Epoch 72/200\n",
      "3248/3248 [==============================] - 3s 919us/step - loss: 0.0055 - acc: 0.0496 - f1_m: 0.0000e+00 - recall_m: 0.0000e+00 - precision_m: 0.0000e+00 - val_loss: 1.2690 - val_acc: 0.1114 - val_f1_m: 3.1792 - val_recall_m: 23.7594 - val_precision_m: 1.7250\n",
      "Epoch 73/200\n",
      "3248/3248 [==============================] - 3s 940us/step - loss: 0.0060 - acc: 0.0751 - f1_m: 0.0000e+00 - recall_m: 0.0000e+00 - precision_m: 0.0000e+00 - val_loss: 1.1582 - val_acc: 0.1201 - val_f1_m: 3.2320 - val_recall_m: 25.4148 - val_precision_m: 1.7451\n",
      "Epoch 74/200\n",
      "3248/3248 [==============================] - 3s 932us/step - loss: 0.0031 - acc: 0.0754 - f1_m: 0.0000e+00 - recall_m: 0.0000e+00 - precision_m: 0.0000e+00 - val_loss: 1.2264 - val_acc: 0.0939 - val_f1_m: 3.6930 - val_recall_m: 23.9877 - val_precision_m: 2.0300\n",
      "Epoch 75/200\n",
      "3248/3248 [==============================] - 3s 898us/step - loss: 0.0032 - acc: 0.0690 - f1_m: 0.0000e+00 - recall_m: 0.0000e+00 - precision_m: 0.0000e+00 - val_loss: 1.2814 - val_acc: 0.0830 - val_f1_m: 3.4430 - val_recall_m: 24.1538 - val_precision_m: 1.8788\n",
      "Epoch 76/200\n",
      "3248/3248 [==============================] - 3s 884us/step - loss: 0.0023 - acc: 0.0530 - f1_m: 0.0000e+00 - recall_m: 0.0000e+00 - precision_m: 0.0000e+00 - val_loss: 1.2051 - val_acc: 0.0677 - val_f1_m: 3.4945 - val_recall_m: 24.9708 - val_precision_m: 1.9021\n",
      "Epoch 77/200\n",
      "3248/3248 [==============================] - 3s 901us/step - loss: 0.0020 - acc: 0.0542 - f1_m: 0.0000e+00 - recall_m: 0.0000e+00 - precision_m: 0.0000e+00 - val_loss: 1.2640 - val_acc: 0.0830 - val_f1_m: 3.2659 - val_recall_m: 24.8935 - val_precision_m: 1.7677\n",
      "Epoch 78/200\n",
      "3248/3248 [==============================] - 3s 919us/step - loss: 8.3903e-04 - acc: 0.0542 - f1_m: 0.0000e+00 - recall_m: 0.0000e+00 - precision_m: 0.0000e+00 - val_loss: 1.3402 - val_acc: 0.0939 - val_f1_m: 3.1349 - val_recall_m: 24.4782 - val_precision_m: 1.6940\n",
      "Epoch 79/200\n",
      "3248/3248 [==============================] - 3s 914us/step - loss: 0.0011 - acc: 0.0570 - f1_m: 0.0000e+00 - recall_m: 0.0000e+00 - precision_m: 0.0000e+00 - val_loss: 1.2756 - val_acc: 0.0764 - val_f1_m: 3.4532 - val_recall_m: 23.6897 - val_precision_m: 1.8882\n",
      "Epoch 80/200\n",
      "3248/3248 [==============================] - 3s 901us/step - loss: 0.0027 - acc: 0.0514 - f1_m: 0.0000e+00 - recall_m: 0.0000e+00 - precision_m: 0.0000e+00 - val_loss: 1.2976 - val_acc: 0.0808 - val_f1_m: 3.4200 - val_recall_m: 23.0828 - val_precision_m: 1.8737\n",
      "Epoch 81/200\n",
      "3248/3248 [==============================] - 3s 896us/step - loss: 0.0041 - acc: 0.0419 - f1_m: 0.0000e+00 - recall_m: 0.0000e+00 - precision_m: 0.0000e+00 - val_loss: 1.1625 - val_acc: 0.0895 - val_f1_m: 3.2451 - val_recall_m: 25.9289 - val_precision_m: 1.7496\n",
      "Epoch 82/200\n",
      "3248/3248 [==============================] - 3s 914us/step - loss: 0.0027 - acc: 0.0683 - f1_m: 0.0000e+00 - recall_m: 0.0000e+00 - precision_m: 0.0000e+00 - val_loss: 1.3628 - val_acc: 0.1157 - val_f1_m: 3.1426 - val_recall_m: 25.1290 - val_precision_m: 1.6946\n",
      "Epoch 83/200\n",
      "3248/3248 [==============================] - 3s 913us/step - loss: 0.0036 - acc: 0.0705 - f1_m: 0.0000e+00 - recall_m: 0.0000e+00 - precision_m: 0.0000e+00 - val_loss: 1.3688 - val_acc: 0.0786 - val_f1_m: 2.9182 - val_recall_m: 27.1435 - val_precision_m: 1.5555\n",
      "Epoch 84/200\n",
      "3248/3248 [==============================] - 3s 931us/step - loss: 0.0023 - acc: 0.0841 - f1_m: 0.0000e+00 - recall_m: 0.0000e+00 - precision_m: 0.0000e+00 - val_loss: 1.4443 - val_acc: 0.1485 - val_f1_m: 2.7189 - val_recall_m: 26.4559 - val_precision_m: 1.4452\n",
      "Epoch 85/200\n",
      "3248/3248 [==============================] - 3s 939us/step - loss: 0.0042 - acc: 0.1031 - f1_m: 0.0000e+00 - recall_m: 0.0000e+00 - precision_m: 0.0000e+00 - val_loss: 1.3785 - val_acc: 0.1288 - val_f1_m: 2.7953 - val_recall_m: 26.6863 - val_precision_m: 1.4876\n",
      "Epoch 86/200\n",
      "3248/3248 [==============================] - 3s 934us/step - loss: 0.0056 - acc: 0.0958 - f1_m: 0.0000e+00 - recall_m: 0.0000e+00 - precision_m: 0.0000e+00 - val_loss: 1.2651 - val_acc: 0.1157 - val_f1_m: 2.8741 - val_recall_m: 25.7800 - val_precision_m: 1.5367\n",
      "Epoch 87/200\n",
      "3248/3248 [==============================] - 3s 931us/step - loss: 0.0028 - acc: 0.0834 - f1_m: 0.0000e+00 - recall_m: 0.0000e+00 - precision_m: 0.0000e+00 - val_loss: 1.3114 - val_acc: 0.1157 - val_f1_m: 2.7534 - val_recall_m: 25.6197 - val_precision_m: 1.4685\n",
      "Epoch 88/200\n",
      "3248/3248 [==============================] - 3s 933us/step - loss: 0.0014 - acc: 0.0927 - f1_m: 0.0000e+00 - recall_m: 0.0000e+00 - precision_m: 0.0000e+00 - val_loss: 1.2737 - val_acc: 0.1310 - val_f1_m: 2.8272 - val_recall_m: 25.8685 - val_precision_m: 1.5090\n",
      "Epoch 89/200\n",
      "3248/3248 [==============================] - 3s 918us/step - loss: 0.0015 - acc: 0.0754 - f1_m: 0.0000e+00 - recall_m: 0.0000e+00 - precision_m: 0.0000e+00 - val_loss: 1.3092 - val_acc: 0.1572 - val_f1_m: 2.9353 - val_recall_m: 24.1200 - val_precision_m: 1.5800\n",
      "Epoch 90/200\n",
      "3248/3248 [==============================] - 3s 933us/step - loss: 0.0021 - acc: 0.0788 - f1_m: 0.0000e+00 - recall_m: 0.0000e+00 - precision_m: 0.0000e+00 - val_loss: 1.1991 - val_acc: 0.0895 - val_f1_m: 2.9308 - val_recall_m: 24.0238 - val_precision_m: 1.5781\n",
      "Epoch 91/200\n",
      "3248/3248 [==============================] - 3s 936us/step - loss: 0.0020 - acc: 0.0687 - f1_m: 0.0000e+00 - recall_m: 0.0000e+00 - precision_m: 0.0000e+00 - val_loss: 1.2891 - val_acc: 0.1026 - val_f1_m: 2.7322 - val_recall_m: 24.1546 - val_precision_m: 1.4628\n",
      "Epoch 92/200\n",
      "3248/3248 [==============================] - 3s 907us/step - loss: 5.3150e-04 - acc: 0.0456 - f1_m: 0.0000e+00 - recall_m: 0.0000e+00 - precision_m: 0.0000e+00 - val_loss: 1.3377 - val_acc: 0.0721 - val_f1_m: 2.8507 - val_recall_m: 24.3543 - val_precision_m: 1.5299\n",
      "Epoch 93/200\n",
      "3248/3248 [==============================] - 3s 926us/step - loss: 0.0015 - acc: 0.0643 - f1_m: 0.0000e+00 - recall_m: 0.0000e+00 - precision_m: 0.0000e+00 - val_loss: 1.3167 - val_acc: 0.1048 - val_f1_m: 2.8780 - val_recall_m: 24.4398 - val_precision_m: 1.5450\n",
      "Epoch 94/200\n",
      "3248/3248 [==============================] - 3s 926us/step - loss: 0.0027 - acc: 0.0757 - f1_m: 0.0000e+00 - recall_m: 0.0000e+00 - precision_m: 0.0000e+00 - val_loss: 1.4548 - val_acc: 0.1769 - val_f1_m: 3.0047 - val_recall_m: 23.8586 - val_precision_m: 1.6220\n",
      "Epoch 95/200\n",
      "3248/3248 [==============================] - 3s 936us/step - loss: 0.0063 - acc: 0.1062 - f1_m: 0.0000e+00 - recall_m: 0.0000e+00 - precision_m: 0.0000e+00 - val_loss: 1.2234 - val_acc: 0.1223 - val_f1_m: 3.2612 - val_recall_m: 24.3732 - val_precision_m: 1.7690\n",
      "Epoch 96/200\n",
      "3248/3248 [==============================] - 3s 949us/step - loss: 0.0031 - acc: 0.0887 - f1_m: 0.0000e+00 - recall_m: 0.0000e+00 - precision_m: 0.0000e+00 - val_loss: 1.3612 - val_acc: 0.1157 - val_f1_m: 2.9154 - val_recall_m: 24.4070 - val_precision_m: 1.5673\n",
      "Epoch 97/200\n",
      "3248/3248 [==============================] - 3s 934us/step - loss: 0.0026 - acc: 0.0856 - f1_m: 0.0000e+00 - recall_m: 0.0000e+00 - precision_m: 0.0000e+00 - val_loss: 1.3436 - val_acc: 0.1441 - val_f1_m: 3.1243 - val_recall_m: 23.8513 - val_precision_m: 1.6923\n",
      "Epoch 98/200\n",
      "3248/3248 [==============================] - 3s 931us/step - loss: 0.0012 - acc: 0.1111 - f1_m: 0.0000e+00 - recall_m: 0.0000e+00 - precision_m: 0.0000e+00 - val_loss: 1.4028 - val_acc: 0.1266 - val_f1_m: 3.0932 - val_recall_m: 23.3663 - val_precision_m: 1.6771\n",
      "Epoch 99/200\n",
      "3248/3248 [==============================] - 3s 926us/step - loss: 0.0016 - acc: 0.0776 - f1_m: 0.0000e+00 - recall_m: 0.0000e+00 - precision_m: 0.0000e+00 - val_loss: 1.3963 - val_acc: 0.0895 - val_f1_m: 2.9495 - val_recall_m: 23.2419 - val_precision_m: 1.5941\n",
      "Epoch 100/200\n",
      "3248/3248 [==============================] - 3s 921us/step - loss: 0.0021 - acc: 0.0576 - f1_m: 0.0000e+00 - recall_m: 0.0000e+00 - precision_m: 0.0000e+00 - val_loss: 1.4166 - val_acc: 0.0830 - val_f1_m: 3.0103 - val_recall_m: 23.6071 - val_precision_m: 1.6271\n",
      "Epoch 101/200\n",
      "3248/3248 [==============================] - 3s 939us/step - loss: 0.0025 - acc: 0.0600 - f1_m: 0.0000e+00 - recall_m: 0.0000e+00 - precision_m: 0.0000e+00 - val_loss: 1.4317 - val_acc: 0.0917 - val_f1_m: 2.9405 - val_recall_m: 24.2042 - val_precision_m: 1.5828\n",
      "Epoch 102/200\n",
      "3248/3248 [==============================] - 3s 954us/step - loss: 0.0022 - acc: 0.0988 - f1_m: 0.0000e+00 - recall_m: 0.0000e+00 - precision_m: 0.0000e+00 - val_loss: 1.4653 - val_acc: 0.1135 - val_f1_m: 2.7702 - val_recall_m: 25.4816 - val_precision_m: 1.4782\n",
      "Epoch 103/200\n",
      "3248/3248 [==============================] - 3s 928us/step - loss: 0.0025 - acc: 0.0693 - f1_m: 0.0000e+00 - recall_m: 0.0000e+00 - precision_m: 0.0000e+00 - val_loss: 1.3961 - val_acc: 0.0546 - val_f1_m: 3.1218 - val_recall_m: 24.5377 - val_precision_m: 1.6855\n",
      "Epoch 104/200\n",
      "3248/3248 [==============================] - 3s 921us/step - loss: 0.0016 - acc: 0.0434 - f1_m: 0.0000e+00 - recall_m: 0.0000e+00 - precision_m: 0.0000e+00 - val_loss: 1.3809 - val_acc: 0.0939 - val_f1_m: 3.2409 - val_recall_m: 24.0897 - val_precision_m: 1.7589\n",
      "Epoch 105/200\n",
      "3248/3248 [==============================] - 3s 925us/step - loss: 6.0469e-04 - acc: 0.0514 - f1_m: 0.0000e+00 - recall_m: 0.0000e+00 - precision_m: 0.0000e+00 - val_loss: 1.4046 - val_acc: 0.0939 - val_f1_m: 2.9862 - val_recall_m: 24.6227 - val_precision_m: 1.6069\n",
      "Epoch 106/200\n",
      "3248/3248 [==============================] - 3s 932us/step - loss: 0.0034 - acc: 0.0591 - f1_m: 0.0000e+00 - recall_m: 0.0000e+00 - precision_m: 0.0000e+00 - val_loss: 1.4553 - val_acc: 0.1114 - val_f1_m: 2.7192 - val_recall_m: 25.2295 - val_precision_m: 1.4505\n",
      "Epoch 107/200\n",
      "3248/3248 [==============================] - 3s 911us/step - loss: 0.0057 - acc: 0.0653 - f1_m: 0.0000e+00 - recall_m: 0.0000e+00 - precision_m: 0.0000e+00 - val_loss: 1.2260 - val_acc: 0.0983 - val_f1_m: 3.1180 - val_recall_m: 24.9978 - val_precision_m: 1.6810\n",
      "Epoch 108/200\n",
      "3248/3248 [==============================] - 3s 916us/step - loss: 0.0020 - acc: 0.0837 - f1_m: 0.0000e+00 - recall_m: 0.0000e+00 - precision_m: 0.0000e+00 - val_loss: 1.2573 - val_acc: 0.1397 - val_f1_m: 2.9122 - val_recall_m: 24.9341 - val_precision_m: 1.5622\n",
      "Epoch 109/200\n",
      "3248/3248 [==============================] - 3s 924us/step - loss: 6.9706e-04 - acc: 0.0868 - f1_m: 0.0000e+00 - recall_m: 0.0000e+00 - precision_m: 0.0000e+00 - val_loss: 1.2911 - val_acc: 0.1572 - val_f1_m: 2.8877 - val_recall_m: 24.8969 - val_precision_m: 1.5484\n",
      "Epoch 110/200\n",
      "3248/3248 [==============================] - 3s 913us/step - loss: 0.0013 - acc: 0.0954 - f1_m: 0.0000e+00 - recall_m: 0.0000e+00 - precision_m: 0.0000e+00 - val_loss: 1.2768 - val_acc: 0.1332 - val_f1_m: 2.8726 - val_recall_m: 24.5622 - val_precision_m: 1.5414\n",
      "Epoch 111/200\n",
      "3248/3248 [==============================] - 3s 915us/step - loss: 5.9424e-04 - acc: 0.1071 - f1_m: 0.0000e+00 - recall_m: 0.0000e+00 - precision_m: 0.0000e+00 - val_loss: 1.2834 - val_acc: 0.1463 - val_f1_m: 2.8155 - val_recall_m: 24.2281 - val_precision_m: 1.5102\n",
      "Epoch 112/200\n",
      "3248/3248 [==============================] - 3s 949us/step - loss: 0.0020 - acc: 0.0794 - f1_m: 0.0000e+00 - recall_m: 0.0000e+00 - precision_m: 0.0000e+00 - val_loss: 1.4316 - val_acc: 0.1266 - val_f1_m: 2.6508 - val_recall_m: 24.3998 - val_precision_m: 1.4153\n",
      "Epoch 113/200\n",
      "3248/3248 [==============================] - 3s 927us/step - loss: 0.0026 - acc: 0.1210 - f1_m: 0.0000e+00 - recall_m: 0.0000e+00 - precision_m: 0.0000e+00 - val_loss: 1.3540 - val_acc: 0.1332 - val_f1_m: 2.9602 - val_recall_m: 24.5836 - val_precision_m: 1.5923\n",
      "Epoch 114/200\n",
      "3248/3248 [==============================] - 3s 920us/step - loss: 9.6129e-04 - acc: 0.0871 - f1_m: 0.0000e+00 - recall_m: 0.0000e+00 - precision_m: 0.0000e+00 - val_loss: 1.4353 - val_acc: 0.1485 - val_f1_m: 2.6844 - val_recall_m: 25.2963 - val_precision_m: 1.4304\n",
      "Epoch 115/200\n",
      "3248/3248 [==============================] - 3s 935us/step - loss: 0.0025 - acc: 0.0877 - f1_m: 0.0000e+00 - recall_m: 0.0000e+00 - precision_m: 0.0000e+00 - val_loss: 1.3955 - val_acc: 0.1157 - val_f1_m: 2.8320 - val_recall_m: 25.6540 - val_precision_m: 1.5130\n",
      "Epoch 116/200\n",
      "3248/3248 [==============================] - 3s 914us/step - loss: 8.3620e-04 - acc: 0.0754 - f1_m: 0.0000e+00 - recall_m: 0.0000e+00 - precision_m: 0.0000e+00 - val_loss: 1.5854 - val_acc: 0.1376 - val_f1_m: 2.7665 - val_recall_m: 25.1497 - val_precision_m: 1.4778\n",
      "Epoch 117/200\n",
      "3248/3248 [==============================] - 3s 939us/step - loss: 0.0035 - acc: 0.0760 - f1_m: 0.0000e+00 - recall_m: 0.0000e+00 - precision_m: 0.0000e+00 - val_loss: 1.3696 - val_acc: 0.1092 - val_f1_m: 2.9023 - val_recall_m: 25.0707 - val_precision_m: 1.5559\n",
      "Epoch 118/200\n",
      "3248/3248 [==============================] - 3s 931us/step - loss: 0.0029 - acc: 0.0665 - f1_m: 0.0000e+00 - recall_m: 0.0000e+00 - precision_m: 0.0000e+00 - val_loss: 1.3748 - val_acc: 0.0852 - val_f1_m: 2.8503 - val_recall_m: 25.4256 - val_precision_m: 1.5246\n",
      "Epoch 119/200\n",
      "3248/3248 [==============================] - 3s 919us/step - loss: 0.0031 - acc: 0.0822 - f1_m: 0.0000e+00 - recall_m: 0.0000e+00 - precision_m: 0.0000e+00 - val_loss: 1.2755 - val_acc: 0.1048 - val_f1_m: 2.9394 - val_recall_m: 25.7749 - val_precision_m: 1.5739\n",
      "Epoch 120/200\n",
      "3248/3248 [==============================] - 3s 915us/step - loss: 0.0052 - acc: 0.0794 - f1_m: 0.0000e+00 - recall_m: 0.0000e+00 - precision_m: 0.0000e+00 - val_loss: 1.3672 - val_acc: 0.1114 - val_f1_m: 2.9551 - val_recall_m: 25.3304 - val_precision_m: 1.5850\n",
      "Epoch 121/200\n",
      "3248/3248 [==============================] - 3s 915us/step - loss: 0.0018 - acc: 0.0696 - f1_m: 0.0000e+00 - recall_m: 0.0000e+00 - precision_m: 0.0000e+00 - val_loss: 1.3151 - val_acc: 0.1419 - val_f1_m: 3.0329 - val_recall_m: 25.6724 - val_precision_m: 1.6281\n",
      "Epoch 122/200\n",
      "3248/3248 [==============================] - 3s 939us/step - loss: 0.0014 - acc: 0.0948 - f1_m: 0.0000e+00 - recall_m: 0.0000e+00 - precision_m: 0.0000e+00 - val_loss: 1.3546 - val_acc: 0.1441 - val_f1_m: 3.0600 - val_recall_m: 25.2368 - val_precision_m: 1.6461\n",
      "Epoch 123/200\n",
      "3248/3248 [==============================] - 3s 943us/step - loss: 9.9960e-04 - acc: 0.0964 - f1_m: 0.0000e+00 - recall_m: 0.0000e+00 - precision_m: 0.0000e+00 - val_loss: 1.3672 - val_acc: 0.1507 - val_f1_m: 2.9800 - val_recall_m: 24.8674 - val_precision_m: 1.6017\n",
      "Epoch 124/200\n",
      "3248/3248 [==============================] - 3s 917us/step - loss: 6.1283e-04 - acc: 0.0890 - f1_m: 0.0000e+00 - recall_m: 0.0000e+00 - precision_m: 0.0000e+00 - val_loss: 1.3027 - val_acc: 0.1507 - val_f1_m: 2.8815 - val_recall_m: 26.5666 - val_precision_m: 1.5369\n",
      "Epoch 125/200\n",
      "3248/3248 [==============================] - 3s 921us/step - loss: 4.5908e-04 - acc: 0.0764 - f1_m: 0.0000e+00 - recall_m: 0.0000e+00 - precision_m: 0.0000e+00 - val_loss: 1.3801 - val_acc: 0.1354 - val_f1_m: 2.9114 - val_recall_m: 26.5477 - val_precision_m: 1.5541\n",
      "Epoch 126/200\n",
      "3248/3248 [==============================] - 3s 921us/step - loss: 2.0187e-04 - acc: 0.0767 - f1_m: 0.0000e+00 - recall_m: 0.0000e+00 - precision_m: 0.0000e+00 - val_loss: 1.4983 - val_acc: 0.1856 - val_f1_m: 2.7731 - val_recall_m: 26.8478 - val_precision_m: 1.4743\n",
      "Epoch 127/200\n",
      "3248/3248 [==============================] - 3s 938us/step - loss: 8.3235e-04 - acc: 0.1022 - f1_m: 0.0000e+00 - recall_m: 0.0000e+00 - precision_m: 0.0000e+00 - val_loss: 1.4968 - val_acc: 0.1550 - val_f1_m: 2.8584 - val_recall_m: 26.4953 - val_precision_m: 1.5241\n",
      "Epoch 128/200\n",
      "3248/3248 [==============================] - 3s 940us/step - loss: 0.0014 - acc: 0.1158 - f1_m: 0.0000e+00 - recall_m: 0.0000e+00 - precision_m: 0.0000e+00 - val_loss: 1.6161 - val_acc: 0.2118 - val_f1_m: 2.8451 - val_recall_m: 25.7847 - val_precision_m: 1.5197\n",
      "Epoch 129/200\n",
      "3248/3248 [==============================] - 3s 913us/step - loss: 0.0012 - acc: 0.1050 - f1_m: 0.0000e+00 - recall_m: 0.0000e+00 - precision_m: 0.0000e+00 - val_loss: 1.4313 - val_acc: 0.1594 - val_f1_m: 2.9790 - val_recall_m: 25.9421 - val_precision_m: 1.5957\n",
      "Epoch 130/200\n",
      "3248/3248 [==============================] - 3s 923us/step - loss: 0.0029 - acc: 0.1019 - f1_m: 0.0000e+00 - recall_m: 0.0000e+00 - precision_m: 0.0000e+00 - val_loss: 1.4666 - val_acc: 0.1703 - val_f1_m: 3.0538 - val_recall_m: 25.1772 - val_precision_m: 1.6428\n",
      "Epoch 131/200\n",
      "3248/3248 [==============================] - 3s 919us/step - loss: 0.0028 - acc: 0.1475 - f1_m: 0.0000e+00 - recall_m: 0.0000e+00 - precision_m: 0.0000e+00 - val_loss: 1.4109 - val_acc: 0.1878 - val_f1_m: 2.9545 - val_recall_m: 25.3675 - val_precision_m: 1.5845\n",
      "Epoch 132/200\n",
      "3248/3248 [==============================] - 3s 934us/step - loss: 0.0032 - acc: 0.1133 - f1_m: 0.0000e+00 - recall_m: 0.0000e+00 - precision_m: 0.0000e+00 - val_loss: 1.5894 - val_acc: 0.1376 - val_f1_m: 2.7612 - val_recall_m: 24.5996 - val_precision_m: 1.4773\n",
      "Epoch 133/200\n",
      "3248/3248 [==============================] - 3s 950us/step - loss: 0.0061 - acc: 0.0640 - f1_m: 0.0000e+00 - recall_m: 0.0000e+00 - precision_m: 0.0000e+00 - val_loss: 1.3981 - val_acc: 0.0830 - val_f1_m: 3.1608 - val_recall_m: 24.9931 - val_precision_m: 1.7056\n",
      "Epoch 134/200\n",
      "3248/3248 [==============================] - 3s 918us/step - loss: 0.0044 - acc: 0.0619 - f1_m: 0.0000e+00 - recall_m: 0.0000e+00 - precision_m: 0.0000e+00 - val_loss: 1.4785 - val_acc: 0.1026 - val_f1_m: 3.2231 - val_recall_m: 24.8546 - val_precision_m: 1.7433\n",
      "Epoch 135/200\n",
      "3248/3248 [==============================] - 3s 910us/step - loss: 0.0020 - acc: 0.0490 - f1_m: 0.0000e+00 - recall_m: 0.0000e+00 - precision_m: 0.0000e+00 - val_loss: 1.5062 - val_acc: 0.0961 - val_f1_m: 3.2722 - val_recall_m: 23.7104 - val_precision_m: 1.7796\n",
      "Epoch 136/200\n",
      "3248/3248 [==============================] - 3s 926us/step - loss: 9.0080e-04 - acc: 0.0483 - f1_m: 0.0000e+00 - recall_m: 0.0000e+00 - precision_m: 0.0000e+00 - val_loss: 1.5772 - val_acc: 0.0524 - val_f1_m: 3.0073 - val_recall_m: 23.9453 - val_precision_m: 1.6226\n",
      "Epoch 137/200\n",
      "3248/3248 [==============================] - 3s 947us/step - loss: 0.0032 - acc: 0.0369 - f1_m: 0.0000e+00 - recall_m: 0.0000e+00 - precision_m: 0.0000e+00 - val_loss: 1.4594 - val_acc: 0.0524 - val_f1_m: 2.9992 - val_recall_m: 24.8961 - val_precision_m: 1.6125\n",
      "Epoch 138/200\n",
      "3248/3248 [==============================] - 3s 941us/step - loss: 0.0018 - acc: 0.0419 - f1_m: 0.0000e+00 - recall_m: 0.0000e+00 - precision_m: 0.0000e+00 - val_loss: 1.4602 - val_acc: 0.0852 - val_f1_m: 3.0715 - val_recall_m: 25.1113 - val_precision_m: 1.6530\n",
      "Epoch 139/200\n",
      "3248/3248 [==============================] - 3s 914us/step - loss: 0.0039 - acc: 0.0579 - f1_m: 0.0000e+00 - recall_m: 0.0000e+00 - precision_m: 0.0000e+00 - val_loss: 1.4988 - val_acc: 0.1048 - val_f1_m: 2.8461 - val_recall_m: 25.4786 - val_precision_m: 1.5217\n",
      "Epoch 140/200\n",
      "3248/3248 [==============================] - 3s 937us/step - loss: 0.0021 - acc: 0.0822 - f1_m: 0.0000e+00 - recall_m: 0.0000e+00 - precision_m: 0.0000e+00 - val_loss: 1.5028 - val_acc: 0.1616 - val_f1_m: 2.7374 - val_recall_m: 25.6881 - val_precision_m: 1.4589\n",
      "Epoch 141/200\n",
      "3248/3248 [==============================] - 3s 914us/step - loss: 0.0029 - acc: 0.0911 - f1_m: 0.0000e+00 - recall_m: 0.0000e+00 - precision_m: 0.0000e+00 - val_loss: 1.4747 - val_acc: 0.1026 - val_f1_m: 2.8159 - val_recall_m: 26.2209 - val_precision_m: 1.5015\n",
      "Epoch 142/200\n",
      "3248/3248 [==============================] - 3s 947us/step - loss: 0.0011 - acc: 0.0714 - f1_m: 0.0000e+00 - recall_m: 0.0000e+00 - precision_m: 0.0000e+00 - val_loss: 1.5402 - val_acc: 0.1288 - val_f1_m: 2.8432 - val_recall_m: 25.6508 - val_precision_m: 1.5192\n",
      "Epoch 143/200\n",
      "3248/3248 [==============================] - 3s 927us/step - loss: 0.0011 - acc: 0.0736 - f1_m: 0.0000e+00 - recall_m: 0.0000e+00 - precision_m: 0.0000e+00 - val_loss: 1.5255 - val_acc: 0.1070 - val_f1_m: 2.7704 - val_recall_m: 26.1186 - val_precision_m: 1.4758\n",
      "Epoch 144/200\n",
      "3248/3248 [==============================] - 3s 911us/step - loss: 7.7315e-04 - acc: 0.1071 - f1_m: 0.0000e+00 - recall_m: 0.0000e+00 - precision_m: 0.0000e+00 - val_loss: 1.5467 - val_acc: 0.1921 - val_f1_m: 2.6818 - val_recall_m: 25.9696 - val_precision_m: 1.4261\n",
      "Epoch 145/200\n",
      "3248/3248 [==============================] - 3s 916us/step - loss: 4.9325e-04 - acc: 0.1272 - f1_m: 0.0000e+00 - recall_m: 0.0000e+00 - precision_m: 0.0000e+00 - val_loss: 1.5925 - val_acc: 0.1790 - val_f1_m: 2.6456 - val_recall_m: 25.9532 - val_precision_m: 1.4060\n",
      "Epoch 146/200\n",
      "3248/3248 [==============================] - 3s 917us/step - loss: 5.4821e-04 - acc: 0.1272 - f1_m: 0.0000e+00 - recall_m: 0.0000e+00 - precision_m: 0.0000e+00 - val_loss: 1.5879 - val_acc: 0.1943 - val_f1_m: 2.7249 - val_recall_m: 25.5018 - val_precision_m: 1.4524\n",
      "Epoch 147/200\n",
      "3248/3248 [==============================] - 3s 959us/step - loss: 1.0821e-04 - acc: 0.1364 - f1_m: 0.0000e+00 - recall_m: 0.0000e+00 - precision_m: 0.0000e+00 - val_loss: 1.5644 - val_acc: 0.1987 - val_f1_m: 2.6763 - val_recall_m: 25.6615 - val_precision_m: 1.4241\n",
      "Epoch 148/200\n",
      "3248/3248 [==============================] - 3s 928us/step - loss: 2.7846e-04 - acc: 0.1441 - f1_m: 0.0000e+00 - recall_m: 0.0000e+00 - precision_m: 0.0000e+00 - val_loss: 1.6771 - val_acc: 0.2096 - val_f1_m: 2.7300 - val_recall_m: 25.2452 - val_precision_m: 1.4566\n",
      "Epoch 149/200\n",
      "3248/3248 [==============================] - 3s 915us/step - loss: 5.5275e-04 - acc: 0.1382 - f1_m: 0.0000e+00 - recall_m: 0.0000e+00 - precision_m: 0.0000e+00 - val_loss: 1.6361 - val_acc: 0.1900 - val_f1_m: 2.8169 - val_recall_m: 25.3024 - val_precision_m: 1.5058\n",
      "Epoch 150/200\n",
      "3248/3248 [==============================] - 3s 926us/step - loss: 0.0015 - acc: 0.1136 - f1_m: 0.0000e+00 - recall_m: 0.0000e+00 - precision_m: 0.0000e+00 - val_loss: 1.6506 - val_acc: 0.1725 - val_f1_m: 2.7399 - val_recall_m: 24.6968 - val_precision_m: 1.4645\n",
      "Epoch 151/200\n",
      "3248/3248 [==============================] - 3s 911us/step - loss: 0.0052 - acc: 0.0807 - f1_m: 0.0000e+00 - recall_m: 0.0000e+00 - precision_m: 0.0000e+00 - val_loss: 1.6819 - val_acc: 0.1332 - val_f1_m: 2.9783 - val_recall_m: 24.7248 - val_precision_m: 1.6019\n",
      "Epoch 152/200\n",
      "3248/3248 [==============================] - 3s 943us/step - loss: 0.0031 - acc: 0.0877 - f1_m: 0.0000e+00 - recall_m: 0.0000e+00 - precision_m: 0.0000e+00 - val_loss: 1.5947 - val_acc: 0.1135 - val_f1_m: 2.9085 - val_recall_m: 24.4589 - val_precision_m: 1.5630\n",
      "Epoch 153/200\n",
      "3248/3248 [==============================] - 3s 967us/step - loss: 0.0032 - acc: 0.0739 - f1_m: 0.0000e+00 - recall_m: 0.0000e+00 - precision_m: 0.0000e+00 - val_loss: 1.5597 - val_acc: 0.1048 - val_f1_m: 2.9806 - val_recall_m: 24.8265 - val_precision_m: 1.6026\n",
      "Epoch 154/200\n",
      "3248/3248 [==============================] - 3s 923us/step - loss: 0.0026 - acc: 0.0917 - f1_m: 0.0000e+00 - recall_m: 0.0000e+00 - precision_m: 0.0000e+00 - val_loss: 1.5102 - val_acc: 0.1245 - val_f1_m: 3.0757 - val_recall_m: 24.6383 - val_precision_m: 1.6590\n",
      "Epoch 155/200\n",
      "3248/3248 [==============================] - 3s 940us/step - loss: 0.0016 - acc: 0.0825 - f1_m: 0.0000e+00 - recall_m: 0.0000e+00 - precision_m: 0.0000e+00 - val_loss: 1.5116 - val_acc: 0.1310 - val_f1_m: 2.9313 - val_recall_m: 25.4121 - val_precision_m: 1.5715\n",
      "Epoch 156/200\n",
      "3248/3248 [==============================] - 3s 921us/step - loss: 0.0014 - acc: 0.1001 - f1_m: 0.0000e+00 - recall_m: 0.0000e+00 - precision_m: 0.0000e+00 - val_loss: 1.5343 - val_acc: 0.1616 - val_f1_m: 2.8788 - val_recall_m: 25.3628 - val_precision_m: 1.5411\n",
      "Epoch 157/200\n",
      "3248/3248 [==============================] - 3s 912us/step - loss: 0.0020 - acc: 0.1096 - f1_m: 0.0000e+00 - recall_m: 0.0000e+00 - precision_m: 0.0000e+00 - val_loss: 1.4679 - val_acc: 0.1397 - val_f1_m: 3.0073 - val_recall_m: 25.0681 - val_precision_m: 1.6171\n",
      "Epoch 158/200\n",
      "3248/3248 [==============================] - 3s 970us/step - loss: 0.0014 - acc: 0.0791 - f1_m: 0.0000e+00 - recall_m: 0.0000e+00 - precision_m: 0.0000e+00 - val_loss: 1.4941 - val_acc: 0.1092 - val_f1_m: 3.1059 - val_recall_m: 24.5507 - val_precision_m: 1.6770\n",
      "Epoch 159/200\n",
      "3248/3248 [==============================] - 3s 926us/step - loss: 6.1803e-04 - acc: 0.0785 - f1_m: 0.0000e+00 - recall_m: 0.0000e+00 - precision_m: 0.0000e+00 - val_loss: 1.4916 - val_acc: 0.1114 - val_f1_m: 3.0952 - val_recall_m: 25.2452 - val_precision_m: 1.6665\n",
      "Epoch 160/200\n",
      "3248/3248 [==============================] - 3s 910us/step - loss: 4.6079e-04 - acc: 0.0844 - f1_m: 0.0000e+00 - recall_m: 0.0000e+00 - precision_m: 0.0000e+00 - val_loss: 1.4958 - val_acc: 0.1135 - val_f1_m: 2.9012 - val_recall_m: 25.2624 - val_precision_m: 1.5544\n",
      "Epoch 161/200\n",
      "3248/3248 [==============================] - 3s 924us/step - loss: 3.7188e-04 - acc: 0.0717 - f1_m: 0.0000e+00 - recall_m: 0.0000e+00 - precision_m: 0.0000e+00 - val_loss: 1.5507 - val_acc: 0.1092 - val_f1_m: 2.9518 - val_recall_m: 24.7354 - val_precision_m: 1.5861\n",
      "Epoch 162/200\n",
      "3248/3248 [==============================] - 3s 916us/step - loss: 1.8367e-05 - acc: 0.0668 - f1_m: 0.0000e+00 - recall_m: 0.0000e+00 - precision_m: 0.0000e+00 - val_loss: 1.5405 - val_acc: 0.0961 - val_f1_m: 3.0406 - val_recall_m: 24.7652 - val_precision_m: 1.6373\n",
      "Epoch 163/200\n",
      "3248/3248 [==============================] - 3s 968us/step - loss: 0.0012 - acc: 0.0896 - f1_m: 0.0000e+00 - recall_m: 0.0000e+00 - precision_m: 0.0000e+00 - val_loss: 1.7016 - val_acc: 0.1725 - val_f1_m: 2.8366 - val_recall_m: 24.8713 - val_precision_m: 1.5190\n",
      "Epoch 164/200\n",
      "3248/3248 [==============================] - 3s 914us/step - loss: 0.0023 - acc: 0.0859 - f1_m: 0.0000e+00 - recall_m: 0.0000e+00 - precision_m: 0.0000e+00 - val_loss: 1.5917 - val_acc: 0.1026 - val_f1_m: 3.0872 - val_recall_m: 24.6803 - val_precision_m: 1.6651\n",
      "Epoch 165/200\n",
      "3248/3248 [==============================] - 3s 917us/step - loss: 0.0022 - acc: 0.0693 - f1_m: 0.0000e+00 - recall_m: 0.0000e+00 - precision_m: 0.0000e+00 - val_loss: 1.6210 - val_acc: 0.0721 - val_f1_m: 3.0060 - val_recall_m: 24.7781 - val_precision_m: 1.6176\n",
      "Epoch 166/200\n",
      "3248/3248 [==============================] - 3s 908us/step - loss: 0.0018 - acc: 0.0610 - f1_m: 0.0000e+00 - recall_m: 0.0000e+00 - precision_m: 0.0000e+00 - val_loss: 1.7107 - val_acc: 0.1092 - val_f1_m: 2.8565 - val_recall_m: 24.8517 - val_precision_m: 1.5310\n",
      "Epoch 167/200\n",
      "3248/3248 [==============================] - 3s 921us/step - loss: 0.0024 - acc: 0.0687 - f1_m: 0.0000e+00 - recall_m: 0.0000e+00 - precision_m: 0.0000e+00 - val_loss: 1.5686 - val_acc: 0.0524 - val_f1_m: 2.8979 - val_recall_m: 24.6757 - val_precision_m: 1.5558\n",
      "Epoch 168/200\n",
      "3248/3248 [==============================] - 3s 979us/step - loss: 0.0035 - acc: 0.0373 - f1_m: 0.0000e+00 - recall_m: 0.0000e+00 - precision_m: 0.0000e+00 - val_loss: 1.6679 - val_acc: 0.0502 - val_f1_m: 2.7152 - val_recall_m: 24.0580 - val_precision_m: 1.4537\n",
      "Epoch 169/200\n",
      "3248/3248 [==============================] - 3s 923us/step - loss: 0.0022 - acc: 0.0219 - f1_m: 0.0000e+00 - recall_m: 0.0000e+00 - precision_m: 0.0000e+00 - val_loss: 1.5341 - val_acc: 0.0437 - val_f1_m: 2.8928 - val_recall_m: 24.0172 - val_precision_m: 1.5562\n",
      "Epoch 170/200\n",
      "3248/3248 [==============================] - 3s 913us/step - loss: 9.5318e-04 - acc: 0.0268 - f1_m: 0.0000e+00 - recall_m: 0.0000e+00 - precision_m: 0.0000e+00 - val_loss: 1.6445 - val_acc: 0.0437 - val_f1_m: 2.8553 - val_recall_m: 24.4774 - val_precision_m: 1.5321\n",
      "Epoch 171/200\n",
      "3248/3248 [==============================] - 3s 908us/step - loss: 0.0011 - acc: 0.0320 - f1_m: 0.0000e+00 - recall_m: 0.0000e+00 - precision_m: 0.0000e+00 - val_loss: 1.6371 - val_acc: 0.0524 - val_f1_m: 2.9251 - val_recall_m: 24.2027 - val_precision_m: 1.5738\n",
      "Epoch 172/200\n",
      "3248/3248 [==============================] - 3s 919us/step - loss: 2.7011e-04 - acc: 0.0511 - f1_m: 0.0000e+00 - recall_m: 0.0000e+00 - precision_m: 0.0000e+00 - val_loss: 1.7389 - val_acc: 0.0742 - val_f1_m: 2.8866 - val_recall_m: 23.9424 - val_precision_m: 1.5530\n",
      "Epoch 173/200\n",
      "3248/3248 [==============================] - 3s 955us/step - loss: 4.9632e-04 - acc: 0.0483 - f1_m: 0.0000e+00 - recall_m: 0.0000e+00 - precision_m: 0.0000e+00 - val_loss: 1.8857 - val_acc: 0.0677 - val_f1_m: 2.8224 - val_recall_m: 23.8306 - val_precision_m: 1.5164\n",
      "Epoch 174/200\n",
      "3248/3248 [==============================] - 3s 926us/step - loss: 0.0021 - acc: 0.0570 - f1_m: 0.0000e+00 - recall_m: 0.0000e+00 - precision_m: 0.0000e+00 - val_loss: 1.7991 - val_acc: 0.1114 - val_f1_m: 2.8181 - val_recall_m: 24.0021 - val_precision_m: 1.5132\n",
      "Epoch 175/200\n",
      "3248/3248 [==============================] - 3s 918us/step - loss: 8.9905e-04 - acc: 0.0751 - f1_m: 0.0000e+00 - recall_m: 0.0000e+00 - precision_m: 0.0000e+00 - val_loss: 1.7775 - val_acc: 0.0983 - val_f1_m: 2.7079 - val_recall_m: 24.0118 - val_precision_m: 1.4496\n",
      "Epoch 176/200\n",
      "3248/3248 [==============================] - 3s 917us/step - loss: 0.0032 - acc: 0.0748 - f1_m: 0.0000e+00 - recall_m: 0.0000e+00 - precision_m: 0.0000e+00 - val_loss: 1.6636 - val_acc: 0.0961 - val_f1_m: 2.6658 - val_recall_m: 24.1016 - val_precision_m: 1.4251\n",
      "Epoch 177/200\n",
      "3248/3248 [==============================] - 3s 920us/step - loss: 0.0024 - acc: 0.0659 - f1_m: 0.0000e+00 - recall_m: 0.0000e+00 - precision_m: 0.0000e+00 - val_loss: 1.5792 - val_acc: 0.0852 - val_f1_m: 2.5393 - val_recall_m: 24.8815 - val_precision_m: 1.3500\n",
      "Epoch 178/200\n",
      "3248/3248 [==============================] - 3s 973us/step - loss: 6.4018e-04 - acc: 0.0717 - f1_m: 0.0000e+00 - recall_m: 0.0000e+00 - precision_m: 0.0000e+00 - val_loss: 1.6300 - val_acc: 0.0873 - val_f1_m: 2.5476 - val_recall_m: 24.8946 - val_precision_m: 1.3545\n",
      "Epoch 179/200\n",
      "3248/3248 [==============================] - 3s 921us/step - loss: 0.0015 - acc: 0.0637 - f1_m: 0.0000e+00 - recall_m: 0.0000e+00 - precision_m: 0.0000e+00 - val_loss: 1.6646 - val_acc: 0.0677 - val_f1_m: 2.4851 - val_recall_m: 24.8854 - val_precision_m: 1.3195\n",
      "Epoch 180/200\n",
      "3248/3248 [==============================] - 3s 911us/step - loss: 0.0018 - acc: 0.0770 - f1_m: 0.0000e+00 - recall_m: 0.0000e+00 - precision_m: 0.0000e+00 - val_loss: 1.6614 - val_acc: 0.1092 - val_f1_m: 2.5532 - val_recall_m: 24.7246 - val_precision_m: 1.3585\n",
      "Epoch 181/200\n",
      "3248/3248 [==============================] - 3s 919us/step - loss: 4.7861e-04 - acc: 0.0794 - f1_m: 0.0000e+00 - recall_m: 0.0000e+00 - precision_m: 0.0000e+00 - val_loss: 1.6203 - val_acc: 0.1070 - val_f1_m: 2.5443 - val_recall_m: 24.6558 - val_precision_m: 1.3535\n",
      "Epoch 182/200\n",
      "3248/3248 [==============================] - 3s 912us/step - loss: 0.0015 - acc: 0.0736 - f1_m: 0.0000e+00 - recall_m: 0.0000e+00 - precision_m: 0.0000e+00 - val_loss: 1.7749 - val_acc: 0.1245 - val_f1_m: 2.4296 - val_recall_m: 24.5724 - val_precision_m: 1.2893\n",
      "Epoch 183/200\n",
      "3248/3248 [==============================] - 3s 981us/step - loss: 0.0017 - acc: 0.0773 - f1_m: 0.0000e+00 - recall_m: 0.0000e+00 - precision_m: 0.0000e+00 - val_loss: 1.6930 - val_acc: 0.0873 - val_f1_m: 2.5488 - val_recall_m: 24.8443 - val_precision_m: 1.3557\n",
      "Epoch 184/200\n",
      "3248/3248 [==============================] - 3s 915us/step - loss: 0.0027 - acc: 0.0594 - f1_m: 0.0000e+00 - recall_m: 0.0000e+00 - precision_m: 0.0000e+00 - val_loss: 1.8126 - val_acc: 0.0764 - val_f1_m: 2.3162 - val_recall_m: 25.4069 - val_precision_m: 1.2230\n",
      "Epoch 185/200\n",
      "3248/3248 [==============================] - 3s 915us/step - loss: 0.0022 - acc: 0.0754 - f1_m: 0.0000e+00 - recall_m: 0.0000e+00 - precision_m: 0.0000e+00 - val_loss: 1.7490 - val_acc: 0.1026 - val_f1_m: 2.3861 - val_recall_m: 25.5412 - val_precision_m: 1.2616\n",
      "Epoch 186/200\n",
      "3248/3248 [==============================] - 3s 918us/step - loss: 0.0018 - acc: 0.0797 - f1_m: 0.0000e+00 - recall_m: 0.0000e+00 - precision_m: 0.0000e+00 - val_loss: 1.7798 - val_acc: 0.1310 - val_f1_m: 2.3954 - val_recall_m: 25.5348 - val_precision_m: 1.2668\n",
      "Epoch 187/200\n",
      "3248/3248 [==============================] - 3s 925us/step - loss: 8.6783e-04 - acc: 0.0998 - f1_m: 0.0000e+00 - recall_m: 0.0000e+00 - precision_m: 0.0000e+00 - val_loss: 1.7926 - val_acc: 0.1179 - val_f1_m: 2.4271 - val_recall_m: 25.4592 - val_precision_m: 1.2848\n",
      "Epoch 188/200\n",
      "3248/3248 [==============================] - 3s 962us/step - loss: 0.0013 - acc: 0.0776 - f1_m: 0.0000e+00 - recall_m: 0.0000e+00 - precision_m: 0.0000e+00 - val_loss: 1.8578 - val_acc: 0.1223 - val_f1_m: 2.3667 - val_recall_m: 24.8667 - val_precision_m: 1.2530\n",
      "Epoch 189/200\n",
      "3248/3248 [==============================] - 3s 915us/step - loss: 0.0017 - acc: 0.0976 - f1_m: 0.0000e+00 - recall_m: 0.0000e+00 - precision_m: 0.0000e+00 - val_loss: 1.9047 - val_acc: 0.1310 - val_f1_m: 2.3395 - val_recall_m: 24.7498 - val_precision_m: 1.2380\n",
      "Epoch 190/200\n",
      "3248/3248 [==============================] - 3s 923us/step - loss: 0.0028 - acc: 0.1019 - f1_m: 0.0000e+00 - recall_m: 0.0000e+00 - precision_m: 0.0000e+00 - val_loss: 1.9188 - val_acc: 0.1245 - val_f1_m: 2.5332 - val_recall_m: 24.5470 - val_precision_m: 1.3479\n",
      "Epoch 191/200\n",
      "3248/3248 [==============================] - 3s 917us/step - loss: 0.0022 - acc: 0.0739 - f1_m: 0.0000e+00 - recall_m: 0.0000e+00 - precision_m: 0.0000e+00 - val_loss: 1.7598 - val_acc: 0.0983 - val_f1_m: 2.5123 - val_recall_m: 24.6192 - val_precision_m: 1.3357\n",
      "Epoch 192/200\n",
      "3248/3248 [==============================] - 3s 923us/step - loss: 0.0017 - acc: 0.0770 - f1_m: 0.0000e+00 - recall_m: 0.0000e+00 - precision_m: 0.0000e+00 - val_loss: 1.9315 - val_acc: 0.1114 - val_f1_m: 2.3859 - val_recall_m: 25.2369 - val_precision_m: 1.2624\n",
      "Epoch 193/200\n",
      "3248/3248 [==============================] - 3s 942us/step - loss: 0.0011 - acc: 0.0770 - f1_m: 0.0000e+00 - recall_m: 0.0000e+00 - precision_m: 0.0000e+00 - val_loss: 1.8970 - val_acc: 0.1135 - val_f1_m: 2.3767 - val_recall_m: 24.9979 - val_precision_m: 1.2580\n",
      "Epoch 194/200\n",
      "3248/3248 [==============================] - 3s 933us/step - loss: 9.3813e-04 - acc: 0.0914 - f1_m: 0.0000e+00 - recall_m: 0.0000e+00 - precision_m: 0.0000e+00 - val_loss: 1.9456 - val_acc: 0.1332 - val_f1_m: 2.4276 - val_recall_m: 24.7172 - val_precision_m: 1.2877\n",
      "Epoch 195/200\n",
      "3248/3248 [==============================] - 3s 915us/step - loss: 0.0016 - acc: 0.0831 - f1_m: 0.0000e+00 - recall_m: 0.0000e+00 - precision_m: 0.0000e+00 - val_loss: 1.8824 - val_acc: 0.0961 - val_f1_m: 2.5326 - val_recall_m: 24.9919 - val_precision_m: 1.3458\n",
      "Epoch 196/200\n",
      "3248/3248 [==============================] - 3s 915us/step - loss: 0.0014 - acc: 0.0640 - f1_m: 0.0000e+00 - recall_m: 0.0000e+00 - precision_m: 0.0000e+00 - val_loss: 1.7727 - val_acc: 0.0764 - val_f1_m: 2.6063 - val_recall_m: 24.9643 - val_precision_m: 1.3876\n",
      "Epoch 197/200\n",
      "3248/3248 [==============================] - 3s 945us/step - loss: 9.6009e-04 - acc: 0.0730 - f1_m: 0.0000e+00 - recall_m: 0.0000e+00 - precision_m: 0.0000e+00 - val_loss: 1.9091 - val_acc: 0.1419 - val_f1_m: 2.5439 - val_recall_m: 24.8957 - val_precision_m: 1.3525\n",
      "Epoch 198/200\n",
      "3248/3248 [==============================] - 3s 968us/step - loss: 8.4602e-05 - acc: 0.1145 - f1_m: 0.0000e+00 - recall_m: 0.0000e+00 - precision_m: 0.0000e+00 - val_loss: 1.7812 - val_acc: 0.1419 - val_f1_m: 2.5683 - val_recall_m: 24.6192 - val_precision_m: 1.3673\n",
      "Epoch 199/200\n",
      "3248/3248 [==============================] - 3s 950us/step - loss: 2.6873e-04 - acc: 0.1238 - f1_m: 0.0000e+00 - recall_m: 0.0000e+00 - precision_m: 0.0000e+00 - val_loss: 1.8188 - val_acc: 0.1507 - val_f1_m: 2.6433 - val_recall_m: 24.6057 - val_precision_m: 1.4099\n",
      "Epoch 200/200\n",
      "3248/3248 [==============================] - 3s 929us/step - loss: 4.4948e-04 - acc: 0.1376 - f1_m: 0.0000e+00 - recall_m: 0.0000e+00 - precision_m: 0.0000e+00 - val_loss: 1.7267 - val_acc: 0.1594 - val_f1_m: 2.6970 - val_recall_m: 24.4704 - val_precision_m: 1.4411\n"
     ]
    },
    {
     "data": {
      "text/plain": [
       "<keras.callbacks.History at 0x7ff942c67630>"
      ]
     },
     "execution_count": 27,
     "metadata": {
      "tags": []
     },
     "output_type": "execute_result"
    }
   ],
   "source": [
    "Anchor = X_train[:,0,:][:,:10000].reshape(-1,100,100,1)\n",
    "Positive = X_train[:,1,:][:,:10000].reshape(-1,100,100,1)\n",
    "Negative = X_train[:,2,:][:,:10000].reshape(-1,100,100,1)\n",
    "\n",
    "Anchor_sub=X_train[:,0,:][:,10000:10050].reshape(-1,50)\n",
    "Positive_sub=X_train[:,1,:][:,10000:10050].reshape(-1,50)\n",
    "Negative_sub=X_train[:,2,:][:,10000:10050].reshape(-1,50)\n",
    "\n",
    "Anchor_ob=X_train[:,0,:][:,10050:].reshape(-1,50)\n",
    "Positive_ob=X_train[:,1,:][:,10050:].reshape(-1,50)\n",
    "Negative_ob=X_train[:,2,:][:,10050:].reshape(-1,50)\n",
    "\n",
    "Anchor_test = X_test[:,0,:][:,:10000].reshape(-1,100,100,1)\n",
    "Positive_test = X_test[:,1,:][:,:10000].reshape(-1,100,100,1)\n",
    "Negative_test = X_test[:,2,:][:,:10000].reshape(-1,100,100,1)\n",
    "\n",
    "Anchor_test_sub=X_test[:,0,:][:,10000:10050].reshape(-1,50)\n",
    "Positive_test_sub=X_test[:,1,:][:,10000:10050].reshape(-1,50)\n",
    "Negative_test_sub=X_test[:,2,:][:,10000:10050].reshape(-1,50)\n",
    "\n",
    "Anchor_test_ob=X_test[:,0,:][:,10050:].reshape(-1,50)\n",
    "Positive_test_ob=X_test[:,1,:][:,10050:].reshape(-1,50)\n",
    "Negative_test_ob=X_test[:,2,:][:,10050:].reshape(-1,50)\n",
    "\n",
    "Y_dummy = np.empty((Anchor.shape[0],1))\n",
    "Y_dummy2 = np.empty((Anchor_test.shape[0],1))\n",
    "\n",
    "model.fit([Anchor,Positive,Negative,Anchor_sub,Positive_sub,Negative_sub,Anchor_ob,Positive_ob,Negative_ob],y=Y_dummy,validation_data=([Anchor_test,Positive_test,Negative_test,Anchor_test_sub,Positive_test_sub,Negative_test_sub,Anchor_test_ob,Positive_test_ob,Negative_test_ob],Y_dummy2), batch_size=32, epochs=200)"
   ]
  },
  {
   "cell_type": "code",
   "execution_count": 0,
   "metadata": {
    "colab": {},
    "colab_type": "code",
    "id": "YSXdf-dXgKTI"
   },
   "outputs": [],
   "source": [
    "model.save_weights(\"model_weight.hdf5\")"
   ]
  },
  {
   "cell_type": "code",
   "execution_count": 0,
   "metadata": {
    "colab": {},
    "colab_type": "code",
    "id": "UMfpKwPDA_sS"
   },
   "outputs": [],
   "source": [
    "trained_model = Model(inputs=[anchor_input,anchor_sub,anchor_ob], outputs=encoded_anchor)"
   ]
  },
  {
   "cell_type": "code",
   "execution_count": 0,
   "metadata": {
    "colab": {},
    "colab_type": "code",
    "id": "cYA9cEvLgRRi"
   },
   "outputs": [],
   "source": [
    "trained_model.load_weights('/content/model_weight.hdf5')"
   ]
  },
  {
   "cell_type": "code",
   "execution_count": 0,
   "metadata": {
    "colab": {
     "base_uri": "https://localhost:8080/",
     "height": 51
    },
    "colab_type": "code",
    "id": "c4flfel-BCkL",
    "outputId": "2dcc7203-f3aa-421d-c080-d812d27f8cc4"
   },
   "outputs": [
    {
     "name": "stdout",
     "output_type": "stream",
     "text": [
      "(3248, 4)\n",
      "(458, 4)\n"
     ]
    }
   ],
   "source": [
    "from sklearn.preprocessing import LabelBinarizer\n",
    "le=LabelBinarizer()\n",
    "y_train_onehot=le.fit_transform(y_train)\n",
    "y_test_onehot=le.fit_transform(y_test)\n",
    "print(y_train_onehot.shape)\n",
    "print(y_test_onehot.shape)"
   ]
  },
  {
   "cell_type": "code",
   "execution_count": 0,
   "metadata": {
    "colab": {
     "base_uri": "https://localhost:8080/",
     "height": 1000
    },
    "colab_type": "code",
    "id": "lezmOtpxBID_",
    "outputId": "052618e8-3c09-4e21-dbcd-d1e6294844d8"
   },
   "outputs": [
    {
     "name": "stdout",
     "output_type": "stream",
     "text": [
      "Train on 3248 samples, validate on 458 samples\n",
      "Epoch 1/100\n",
      "3248/3248 [==============================] - 1s 313us/step - loss: 1.6229 - acc: 0.2371 - f1_m: 0.0876 - recall_m: 0.0597 - precision_m: 0.1757 - val_loss: 1.5947 - val_acc: 0.2162 - val_f1_m: 0.0731 - val_recall_m: 0.0480 - val_precision_m: 0.1590\n",
      "Epoch 2/100\n",
      "3248/3248 [==============================] - 0s 138us/step - loss: 1.4977 - acc: 0.2869 - f1_m: 0.0909 - recall_m: 0.0570 - precision_m: 0.2380 - val_loss: 1.4820 - val_acc: 0.2664 - val_f1_m: 0.0807 - val_recall_m: 0.0480 - val_precision_m: 0.2809\n",
      "Epoch 3/100\n",
      "3248/3248 [==============================] - 0s 130us/step - loss: 1.4177 - acc: 0.3199 - f1_m: 0.0885 - recall_m: 0.0526 - precision_m: 0.3151 - val_loss: 1.4067 - val_acc: 0.3166 - val_f1_m: 0.0878 - val_recall_m: 0.0502 - val_precision_m: 0.4346\n",
      "Epoch 4/100\n",
      "3248/3248 [==============================] - 0s 130us/step - loss: 1.3662 - acc: 0.3534 - f1_m: 0.0815 - recall_m: 0.0474 - precision_m: 0.3135 - val_loss: 1.3572 - val_acc: 0.3493 - val_f1_m: 0.0777 - val_recall_m: 0.0437 - val_precision_m: 0.4253\n",
      "Epoch 5/100\n",
      "3248/3248 [==============================] - 0s 135us/step - loss: 1.3318 - acc: 0.3707 - f1_m: 0.0722 - recall_m: 0.0409 - precision_m: 0.3622 - val_loss: 1.3234 - val_acc: 0.3668 - val_f1_m: 0.0558 - val_recall_m: 0.0306 - val_precision_m: 0.3882\n",
      "Epoch 6/100\n",
      "3248/3248 [==============================] - 0s 139us/step - loss: 1.3081 - acc: 0.3839 - f1_m: 0.0614 - recall_m: 0.0345 - precision_m: 0.3598 - val_loss: 1.2991 - val_acc: 0.3777 - val_f1_m: 0.0247 - val_recall_m: 0.0131 - val_precision_m: 0.2562\n",
      "Epoch 7/100\n",
      "3248/3248 [==============================] - 0s 143us/step - loss: 1.2916 - acc: 0.3916 - f1_m: 0.0357 - recall_m: 0.0194 - precision_m: 0.2878 - val_loss: 1.2814 - val_acc: 0.3821 - val_f1_m: 0.0166 - val_recall_m: 0.0087 - val_precision_m: 0.1980\n",
      "Epoch 8/100\n",
      "3248/3248 [==============================] - 0s 134us/step - loss: 1.2799 - acc: 0.3978 - f1_m: 0.0230 - recall_m: 0.0123 - precision_m: 0.2159 - val_loss: 1.2684 - val_acc: 0.3974 - val_f1_m: 0.0041 - val_recall_m: 0.0022 - val_precision_m: 0.0349\n",
      "Epoch 9/100\n",
      "3248/3248 [==============================] - 0s 135us/step - loss: 1.2713 - acc: 0.3941 - f1_m: 0.0106 - recall_m: 0.0055 - precision_m: 0.1264 - val_loss: 1.2589 - val_acc: 0.3996 - val_f1_m: 0.0000e+00 - val_recall_m: 0.0000e+00 - val_precision_m: 0.0000e+00\n",
      "Epoch 10/100\n",
      "3248/3248 [==============================] - 0s 129us/step - loss: 1.2650 - acc: 0.4042 - f1_m: 0.0071 - recall_m: 0.0037 - precision_m: 0.1067 - val_loss: 1.2517 - val_acc: 0.4017 - val_f1_m: 0.0000e+00 - val_recall_m: 0.0000e+00 - val_precision_m: 0.0000e+00\n",
      "Epoch 11/100\n",
      "3248/3248 [==============================] - 0s 128us/step - loss: 1.2602 - acc: 0.4098 - f1_m: 0.0024 - recall_m: 0.0012 - precision_m: 0.0394 - val_loss: 1.2465 - val_acc: 0.4017 - val_f1_m: 0.0000e+00 - val_recall_m: 0.0000e+00 - val_precision_m: 0.0000e+00\n",
      "Epoch 12/100\n",
      "3248/3248 [==============================] - 0s 132us/step - loss: 1.2566 - acc: 0.4215 - f1_m: 0.0018 - recall_m: 9.2365e-04 - precision_m: 0.0296 - val_loss: 1.2422 - val_acc: 0.4039 - val_f1_m: 0.0000e+00 - val_recall_m: 0.0000e+00 - val_precision_m: 0.0000e+00\n",
      "Epoch 13/100\n",
      "3248/3248 [==============================] - 0s 135us/step - loss: 1.2539 - acc: 0.4243 - f1_m: 0.0012 - recall_m: 6.1576e-04 - precision_m: 0.0197 - val_loss: 1.2389 - val_acc: 0.4039 - val_f1_m: 0.0000e+00 - val_recall_m: 0.0000e+00 - val_precision_m: 0.0000e+00\n",
      "Epoch 14/100\n",
      "3248/3248 [==============================] - 0s 141us/step - loss: 1.2517 - acc: 0.4264 - f1_m: 0.0000e+00 - recall_m: 0.0000e+00 - precision_m: 0.0000e+00 - val_loss: 1.2366 - val_acc: 0.3996 - val_f1_m: 0.0000e+00 - val_recall_m: 0.0000e+00 - val_precision_m: 0.0000e+00\n",
      "Epoch 15/100\n",
      "3248/3248 [==============================] - 0s 136us/step - loss: 1.2499 - acc: 0.4221 - f1_m: 0.0000e+00 - recall_m: 0.0000e+00 - precision_m: 0.0000e+00 - val_loss: 1.2348 - val_acc: 0.4039 - val_f1_m: 0.0000e+00 - val_recall_m: 0.0000e+00 - val_precision_m: 0.0000e+00\n",
      "Epoch 16/100\n",
      "3248/3248 [==============================] - 0s 130us/step - loss: 1.2486 - acc: 0.4236 - f1_m: 0.0000e+00 - recall_m: 0.0000e+00 - precision_m: 0.0000e+00 - val_loss: 1.2331 - val_acc: 0.4039 - val_f1_m: 0.0000e+00 - val_recall_m: 0.0000e+00 - val_precision_m: 0.0000e+00\n",
      "Epoch 17/100\n",
      "3248/3248 [==============================] - 0s 136us/step - loss: 1.2474 - acc: 0.4252 - f1_m: 0.0000e+00 - recall_m: 0.0000e+00 - precision_m: 0.0000e+00 - val_loss: 1.2320 - val_acc: 0.4039 - val_f1_m: 0.0000e+00 - val_recall_m: 0.0000e+00 - val_precision_m: 0.0000e+00\n",
      "Epoch 18/100\n",
      "3248/3248 [==============================] - 0s 137us/step - loss: 1.2465 - acc: 0.4261 - f1_m: 0.0000e+00 - recall_m: 0.0000e+00 - precision_m: 0.0000e+00 - val_loss: 1.2308 - val_acc: 0.4017 - val_f1_m: 0.0000e+00 - val_recall_m: 0.0000e+00 - val_precision_m: 0.0000e+00\n",
      "Epoch 19/100\n",
      "3248/3248 [==============================] - 0s 143us/step - loss: 1.2457 - acc: 0.4249 - f1_m: 0.0000e+00 - recall_m: 0.0000e+00 - precision_m: 0.0000e+00 - val_loss: 1.2300 - val_acc: 0.3996 - val_f1_m: 0.0000e+00 - val_recall_m: 0.0000e+00 - val_precision_m: 0.0000e+00\n",
      "Epoch 20/100\n",
      "3248/3248 [==============================] - 0s 149us/step - loss: 1.2451 - acc: 0.4255 - f1_m: 0.0000e+00 - recall_m: 0.0000e+00 - precision_m: 0.0000e+00 - val_loss: 1.2296 - val_acc: 0.3996 - val_f1_m: 0.0000e+00 - val_recall_m: 0.0000e+00 - val_precision_m: 0.0000e+00\n",
      "Epoch 21/100\n",
      "3248/3248 [==============================] - 0s 140us/step - loss: 1.2447 - acc: 0.4295 - f1_m: 0.0000e+00 - recall_m: 0.0000e+00 - precision_m: 0.0000e+00 - val_loss: 1.2287 - val_acc: 0.3952 - val_f1_m: 0.0000e+00 - val_recall_m: 0.0000e+00 - val_precision_m: 0.0000e+00\n",
      "Epoch 22/100\n",
      "3248/3248 [==============================] - 0s 144us/step - loss: 1.2442 - acc: 0.4289 - f1_m: 0.0000e+00 - recall_m: 0.0000e+00 - precision_m: 0.0000e+00 - val_loss: 1.2287 - val_acc: 0.3996 - val_f1_m: 0.0000e+00 - val_recall_m: 0.0000e+00 - val_precision_m: 0.0000e+00\n",
      "Epoch 23/100\n",
      "3248/3248 [==============================] - 0s 136us/step - loss: 1.2438 - acc: 0.4283 - f1_m: 0.0000e+00 - recall_m: 0.0000e+00 - precision_m: 0.0000e+00 - val_loss: 1.2279 - val_acc: 0.3974 - val_f1_m: 0.0000e+00 - val_recall_m: 0.0000e+00 - val_precision_m: 0.0000e+00\n",
      "Epoch 24/100\n",
      "3248/3248 [==============================] - 0s 140us/step - loss: 1.2435 - acc: 0.4295 - f1_m: 0.0000e+00 - recall_m: 0.0000e+00 - precision_m: 0.0000e+00 - val_loss: 1.2280 - val_acc: 0.3996 - val_f1_m: 0.0000e+00 - val_recall_m: 0.0000e+00 - val_precision_m: 0.0000e+00\n",
      "Epoch 25/100\n",
      "3248/3248 [==============================] - 0s 137us/step - loss: 1.2433 - acc: 0.4292 - f1_m: 0.0000e+00 - recall_m: 0.0000e+00 - precision_m: 0.0000e+00 - val_loss: 1.2281 - val_acc: 0.3930 - val_f1_m: 0.0000e+00 - val_recall_m: 0.0000e+00 - val_precision_m: 0.0000e+00\n",
      "Epoch 26/100\n",
      "3248/3248 [==============================] - 0s 132us/step - loss: 1.2431 - acc: 0.4283 - f1_m: 0.0000e+00 - recall_m: 0.0000e+00 - precision_m: 0.0000e+00 - val_loss: 1.2275 - val_acc: 0.3974 - val_f1_m: 0.0000e+00 - val_recall_m: 0.0000e+00 - val_precision_m: 0.0000e+00\n",
      "Epoch 27/100\n",
      "3248/3248 [==============================] - 0s 142us/step - loss: 1.2430 - acc: 0.4276 - f1_m: 0.0000e+00 - recall_m: 0.0000e+00 - precision_m: 0.0000e+00 - val_loss: 1.2271 - val_acc: 0.4127 - val_f1_m: 0.0000e+00 - val_recall_m: 0.0000e+00 - val_precision_m: 0.0000e+00\n",
      "Epoch 28/100\n",
      "3248/3248 [==============================] - 0s 134us/step - loss: 1.2427 - acc: 0.4307 - f1_m: 0.0000e+00 - recall_m: 0.0000e+00 - precision_m: 0.0000e+00 - val_loss: 1.2270 - val_acc: 0.4105 - val_f1_m: 0.0000e+00 - val_recall_m: 0.0000e+00 - val_precision_m: 0.0000e+00\n",
      "Epoch 29/100\n",
      "3248/3248 [==============================] - 0s 146us/step - loss: 1.2427 - acc: 0.4323 - f1_m: 0.0000e+00 - recall_m: 0.0000e+00 - precision_m: 0.0000e+00 - val_loss: 1.2271 - val_acc: 0.4105 - val_f1_m: 0.0000e+00 - val_recall_m: 0.0000e+00 - val_precision_m: 0.0000e+00\n",
      "Epoch 30/100\n",
      "3248/3248 [==============================] - 0s 130us/step - loss: 1.2425 - acc: 0.4307 - f1_m: 0.0000e+00 - recall_m: 0.0000e+00 - precision_m: 0.0000e+00 - val_loss: 1.2268 - val_acc: 0.4039 - val_f1_m: 0.0000e+00 - val_recall_m: 0.0000e+00 - val_precision_m: 0.0000e+00\n",
      "Epoch 31/100\n",
      "3248/3248 [==============================] - 0s 133us/step - loss: 1.2424 - acc: 0.4317 - f1_m: 0.0000e+00 - recall_m: 0.0000e+00 - precision_m: 0.0000e+00 - val_loss: 1.2267 - val_acc: 0.4061 - val_f1_m: 0.0000e+00 - val_recall_m: 0.0000e+00 - val_precision_m: 0.0000e+00\n",
      "Epoch 32/100\n",
      "3248/3248 [==============================] - 0s 132us/step - loss: 1.2423 - acc: 0.4307 - f1_m: 0.0000e+00 - recall_m: 0.0000e+00 - precision_m: 0.0000e+00 - val_loss: 1.2269 - val_acc: 0.4148 - val_f1_m: 0.0000e+00 - val_recall_m: 0.0000e+00 - val_precision_m: 0.0000e+00\n",
      "Epoch 33/100\n",
      "3248/3248 [==============================] - 0s 147us/step - loss: 1.2422 - acc: 0.4317 - f1_m: 5.9710e-04 - recall_m: 3.0788e-04 - precision_m: 0.0099 - val_loss: 1.2265 - val_acc: 0.4127 - val_f1_m: 0.0000e+00 - val_recall_m: 0.0000e+00 - val_precision_m: 0.0000e+00\n",
      "Epoch 34/100\n",
      "3248/3248 [==============================] - 0s 134us/step - loss: 1.2422 - acc: 0.4292 - f1_m: 5.9710e-04 - recall_m: 3.0788e-04 - precision_m: 0.0099 - val_loss: 1.2263 - val_acc: 0.4105 - val_f1_m: 0.0000e+00 - val_recall_m: 0.0000e+00 - val_precision_m: 0.0000e+00\n",
      "Epoch 35/100\n",
      "3248/3248 [==============================] - 0s 129us/step - loss: 1.2421 - acc: 0.4326 - f1_m: 5.9710e-04 - recall_m: 3.0788e-04 - precision_m: 0.0099 - val_loss: 1.2260 - val_acc: 0.4105 - val_f1_m: 0.0000e+00 - val_recall_m: 0.0000e+00 - val_precision_m: 0.0000e+00\n",
      "Epoch 36/100\n",
      "3248/3248 [==============================] - 0s 127us/step - loss: 1.2421 - acc: 0.4313 - f1_m: 5.9710e-04 - recall_m: 3.0788e-04 - precision_m: 0.0099 - val_loss: 1.2265 - val_acc: 0.4017 - val_f1_m: 0.0000e+00 - val_recall_m: 0.0000e+00 - val_precision_m: 0.0000e+00\n",
      "Epoch 37/100\n",
      "3248/3248 [==============================] - 0s 136us/step - loss: 1.2422 - acc: 0.4298 - f1_m: 0.0018 - recall_m: 9.2365e-04 - precision_m: 0.0296 - val_loss: 1.2261 - val_acc: 0.4148 - val_f1_m: 0.0000e+00 - val_recall_m: 0.0000e+00 - val_precision_m: 0.0000e+00\n",
      "Epoch 38/100\n",
      "3248/3248 [==============================] - 0s 134us/step - loss: 1.2421 - acc: 0.4313 - f1_m: 0.0018 - recall_m: 9.2365e-04 - precision_m: 0.0296 - val_loss: 1.2258 - val_acc: 0.4083 - val_f1_m: 0.0000e+00 - val_recall_m: 0.0000e+00 - val_precision_m: 0.0000e+00\n",
      "Epoch 39/100\n",
      "3248/3248 [==============================] - 0s 137us/step - loss: 1.2420 - acc: 0.4313 - f1_m: 0.0018 - recall_m: 9.2365e-04 - precision_m: 0.0296 - val_loss: 1.2258 - val_acc: 0.4061 - val_f1_m: 0.0000e+00 - val_recall_m: 0.0000e+00 - val_precision_m: 0.0000e+00\n",
      "Epoch 40/100\n",
      "3248/3248 [==============================] - 0s 133us/step - loss: 1.2420 - acc: 0.4298 - f1_m: 0.0018 - recall_m: 9.2365e-04 - precision_m: 0.0296 - val_loss: 1.2263 - val_acc: 0.4083 - val_f1_m: 0.0000e+00 - val_recall_m: 0.0000e+00 - val_precision_m: 0.0000e+00\n",
      "Epoch 41/100\n",
      "3248/3248 [==============================] - 0s 132us/step - loss: 1.2420 - acc: 0.4317 - f1_m: 0.0018 - recall_m: 9.2365e-04 - precision_m: 0.0296 - val_loss: 1.2259 - val_acc: 0.4148 - val_f1_m: 0.0000e+00 - val_recall_m: 0.0000e+00 - val_precision_m: 0.0000e+00\n",
      "Epoch 42/100\n",
      "3248/3248 [==============================] - 0s 139us/step - loss: 1.2418 - acc: 0.4307 - f1_m: 0.0018 - recall_m: 9.2365e-04 - precision_m: 0.0296 - val_loss: 1.2263 - val_acc: 0.4105 - val_f1_m: 0.0000e+00 - val_recall_m: 0.0000e+00 - val_precision_m: 0.0000e+00\n",
      "Epoch 43/100\n",
      "3248/3248 [==============================] - 0s 132us/step - loss: 1.2419 - acc: 0.4307 - f1_m: 0.0030 - recall_m: 0.0015 - precision_m: 0.0493 - val_loss: 1.2259 - val_acc: 0.4105 - val_f1_m: 0.0000e+00 - val_recall_m: 0.0000e+00 - val_precision_m: 0.0000e+00\n",
      "Epoch 44/100\n",
      "3248/3248 [==============================] - 0s 135us/step - loss: 1.2419 - acc: 0.4304 - f1_m: 0.0030 - recall_m: 0.0015 - precision_m: 0.0493 - val_loss: 1.2263 - val_acc: 0.4083 - val_f1_m: 0.0000e+00 - val_recall_m: 0.0000e+00 - val_precision_m: 0.0000e+00\n",
      "Epoch 45/100\n",
      "3248/3248 [==============================] - 0s 127us/step - loss: 1.2418 - acc: 0.4317 - f1_m: 0.0030 - recall_m: 0.0015 - precision_m: 0.0493 - val_loss: 1.2262 - val_acc: 0.4083 - val_f1_m: 0.0000e+00 - val_recall_m: 0.0000e+00 - val_precision_m: 0.0000e+00\n",
      "Epoch 46/100\n",
      "3248/3248 [==============================] - 0s 146us/step - loss: 1.2419 - acc: 0.4320 - f1_m: 0.0024 - recall_m: 0.0012 - precision_m: 0.0394 - val_loss: 1.2256 - val_acc: 0.4083 - val_f1_m: 0.0000e+00 - val_recall_m: 0.0000e+00 - val_precision_m: 0.0000e+00\n",
      "Epoch 47/100\n",
      "3248/3248 [==============================] - 0s 134us/step - loss: 1.2419 - acc: 0.4304 - f1_m: 0.0030 - recall_m: 0.0015 - precision_m: 0.0493 - val_loss: 1.2257 - val_acc: 0.4105 - val_f1_m: 0.0000e+00 - val_recall_m: 0.0000e+00 - val_precision_m: 0.0000e+00\n",
      "Epoch 48/100\n",
      "3248/3248 [==============================] - 0s 134us/step - loss: 1.2418 - acc: 0.4301 - f1_m: 0.0036 - recall_m: 0.0018 - precision_m: 0.0591 - val_loss: 1.2259 - val_acc: 0.4105 - val_f1_m: 0.0000e+00 - val_recall_m: 0.0000e+00 - val_precision_m: 0.0000e+00\n",
      "Epoch 49/100\n",
      "3248/3248 [==============================] - 0s 129us/step - loss: 1.2418 - acc: 0.4310 - f1_m: 0.0030 - recall_m: 0.0015 - precision_m: 0.0493 - val_loss: 1.2259 - val_acc: 0.4017 - val_f1_m: 0.0000e+00 - val_recall_m: 0.0000e+00 - val_precision_m: 0.0000e+00\n",
      "Epoch 50/100\n",
      "3248/3248 [==============================] - 0s 130us/step - loss: 1.2419 - acc: 0.4326 - f1_m: 0.0030 - recall_m: 0.0015 - precision_m: 0.0493 - val_loss: 1.2257 - val_acc: 0.4061 - val_f1_m: 0.0000e+00 - val_recall_m: 0.0000e+00 - val_precision_m: 0.0000e+00\n",
      "Epoch 51/100\n",
      "3248/3248 [==============================] - 0s 128us/step - loss: 1.2419 - acc: 0.4301 - f1_m: 0.0042 - recall_m: 0.0022 - precision_m: 0.0640 - val_loss: 1.2256 - val_acc: 0.4061 - val_f1_m: 0.0000e+00 - val_recall_m: 0.0000e+00 - val_precision_m: 0.0000e+00\n",
      "Epoch 52/100\n",
      "3248/3248 [==============================] - 0s 136us/step - loss: 1.2420 - acc: 0.4310 - f1_m: 0.0036 - recall_m: 0.0018 - precision_m: 0.0591 - val_loss: 1.2257 - val_acc: 0.4083 - val_f1_m: 0.0000e+00 - val_recall_m: 0.0000e+00 - val_precision_m: 0.0000e+00\n",
      "Epoch 53/100\n",
      "3248/3248 [==============================] - 0s 149us/step - loss: 1.2420 - acc: 0.4286 - f1_m: 0.0042 - recall_m: 0.0022 - precision_m: 0.0640 - val_loss: 1.2253 - val_acc: 0.4083 - val_f1_m: 0.0000e+00 - val_recall_m: 0.0000e+00 - val_precision_m: 0.0000e+00\n",
      "Epoch 54/100\n",
      "3248/3248 [==============================] - 0s 152us/step - loss: 1.2418 - acc: 0.4307 - f1_m: 0.0036 - recall_m: 0.0018 - precision_m: 0.0542 - val_loss: 1.2255 - val_acc: 0.4127 - val_f1_m: 0.0000e+00 - val_recall_m: 0.0000e+00 - val_precision_m: 0.0000e+00\n",
      "Epoch 55/100\n",
      "3248/3248 [==============================] - 1s 159us/step - loss: 1.2419 - acc: 0.4313 - f1_m: 0.0035 - recall_m: 0.0018 - precision_m: 0.0493 - val_loss: 1.2258 - val_acc: 0.4083 - val_f1_m: 0.0000e+00 - val_recall_m: 0.0000e+00 - val_precision_m: 0.0000e+00\n",
      "Epoch 56/100\n",
      "3248/3248 [==============================] - 0s 142us/step - loss: 1.2419 - acc: 0.4292 - f1_m: 0.0036 - recall_m: 0.0018 - precision_m: 0.0591 - val_loss: 1.2255 - val_acc: 0.4083 - val_f1_m: 0.0000e+00 - val_recall_m: 0.0000e+00 - val_precision_m: 0.0000e+00\n",
      "Epoch 57/100\n",
      "3248/3248 [==============================] - 0s 133us/step - loss: 1.2419 - acc: 0.4304 - f1_m: 0.0036 - recall_m: 0.0018 - precision_m: 0.0591 - val_loss: 1.2258 - val_acc: 0.4127 - val_f1_m: 0.0000e+00 - val_recall_m: 0.0000e+00 - val_precision_m: 0.0000e+00\n",
      "Epoch 58/100\n",
      "3248/3248 [==============================] - 0s 135us/step - loss: 1.2417 - acc: 0.4310 - f1_m: 0.0036 - recall_m: 0.0018 - precision_m: 0.0591 - val_loss: 1.2253 - val_acc: 0.4105 - val_f1_m: 0.0000e+00 - val_recall_m: 0.0000e+00 - val_precision_m: 0.0000e+00\n",
      "Epoch 59/100\n",
      "3248/3248 [==============================] - 0s 145us/step - loss: 1.2419 - acc: 0.4295 - f1_m: 0.0035 - recall_m: 0.0018 - precision_m: 0.0443 - val_loss: 1.2252 - val_acc: 0.4105 - val_f1_m: 0.0000e+00 - val_recall_m: 0.0000e+00 - val_precision_m: 0.0000e+00\n",
      "Epoch 60/100\n",
      "3248/3248 [==============================] - 0s 146us/step - loss: 1.2418 - acc: 0.4307 - f1_m: 0.0036 - recall_m: 0.0018 - precision_m: 0.0542 - val_loss: 1.2252 - val_acc: 0.4148 - val_f1_m: 0.0000e+00 - val_recall_m: 0.0000e+00 - val_precision_m: 0.0000e+00\n",
      "Epoch 61/100\n",
      "3248/3248 [==============================] - 0s 137us/step - loss: 1.2418 - acc: 0.4313 - f1_m: 0.0041 - recall_m: 0.0022 - precision_m: 0.0591 - val_loss: 1.2254 - val_acc: 0.4083 - val_f1_m: 0.0000e+00 - val_recall_m: 0.0000e+00 - val_precision_m: 0.0000e+00\n",
      "Epoch 62/100\n",
      "3248/3248 [==============================] - 0s 140us/step - loss: 1.2418 - acc: 0.4307 - f1_m: 0.0042 - recall_m: 0.0022 - precision_m: 0.0690 - val_loss: 1.2256 - val_acc: 0.4127 - val_f1_m: 0.0042 - val_recall_m: 0.0022 - val_precision_m: 0.0699\n",
      "Epoch 63/100\n",
      "3248/3248 [==============================] - 0s 132us/step - loss: 1.2417 - acc: 0.4276 - f1_m: 0.0042 - recall_m: 0.0022 - precision_m: 0.0640 - val_loss: 1.2253 - val_acc: 0.4083 - val_f1_m: 0.0042 - val_recall_m: 0.0022 - val_precision_m: 0.0699\n",
      "Epoch 64/100\n",
      "3248/3248 [==============================] - 0s 135us/step - loss: 1.2419 - acc: 0.4307 - f1_m: 0.0041 - recall_m: 0.0022 - precision_m: 0.0542 - val_loss: 1.2254 - val_acc: 0.4127 - val_f1_m: 0.0042 - val_recall_m: 0.0022 - val_precision_m: 0.0699\n",
      "Epoch 65/100\n",
      "3248/3248 [==============================] - 0s 133us/step - loss: 1.2418 - acc: 0.4310 - f1_m: 0.0042 - recall_m: 0.0022 - precision_m: 0.0640 - val_loss: 1.2254 - val_acc: 0.4105 - val_f1_m: 0.0042 - val_recall_m: 0.0022 - val_precision_m: 0.0699\n",
      "Epoch 66/100\n",
      "3248/3248 [==============================] - 0s 135us/step - loss: 1.2419 - acc: 0.4317 - f1_m: 0.0053 - recall_m: 0.0028 - precision_m: 0.0772 - val_loss: 1.2255 - val_acc: 0.4061 - val_f1_m: 0.0042 - val_recall_m: 0.0022 - val_precision_m: 0.0699\n",
      "Epoch 67/100\n",
      "3248/3248 [==============================] - 0s 136us/step - loss: 1.2417 - acc: 0.4323 - f1_m: 0.0042 - recall_m: 0.0022 - precision_m: 0.0640 - val_loss: 1.2253 - val_acc: 0.4061 - val_f1_m: 0.0042 - val_recall_m: 0.0022 - val_precision_m: 0.0699\n",
      "Epoch 68/100\n",
      "3248/3248 [==============================] - 0s 129us/step - loss: 1.2420 - acc: 0.4289 - f1_m: 0.0059 - recall_m: 0.0031 - precision_m: 0.0837 - val_loss: 1.2255 - val_acc: 0.4105 - val_f1_m: 0.0042 - val_recall_m: 0.0022 - val_precision_m: 0.0699\n",
      "Epoch 69/100\n",
      "3248/3248 [==============================] - 0s 130us/step - loss: 1.2419 - acc: 0.4298 - f1_m: 0.0041 - recall_m: 0.0022 - precision_m: 0.0591 - val_loss: 1.2252 - val_acc: 0.4039 - val_f1_m: 0.0000e+00 - val_recall_m: 0.0000e+00 - val_precision_m: 0.0000e+00\n",
      "Epoch 70/100\n",
      "3248/3248 [==============================] - 0s 127us/step - loss: 1.2418 - acc: 0.4313 - f1_m: 0.0041 - recall_m: 0.0022 - precision_m: 0.0542 - val_loss: 1.2252 - val_acc: 0.4105 - val_f1_m: 0.0000e+00 - val_recall_m: 0.0000e+00 - val_precision_m: 0.0000e+00\n",
      "Epoch 71/100\n",
      "3248/3248 [==============================] - 0s 130us/step - loss: 1.2417 - acc: 0.4310 - f1_m: 0.0036 - recall_m: 0.0018 - precision_m: 0.0542 - val_loss: 1.2256 - val_acc: 0.4061 - val_f1_m: 0.0000e+00 - val_recall_m: 0.0000e+00 - val_precision_m: 0.0000e+00\n",
      "Epoch 72/100\n",
      "3248/3248 [==============================] - 0s 134us/step - loss: 1.2418 - acc: 0.4323 - f1_m: 0.0048 - recall_m: 0.0025 - precision_m: 0.0739 - val_loss: 1.2258 - val_acc: 0.4105 - val_f1_m: 0.0042 - val_recall_m: 0.0022 - val_precision_m: 0.0699\n",
      "Epoch 73/100\n",
      "3248/3248 [==============================] - 0s 134us/step - loss: 1.2418 - acc: 0.4307 - f1_m: 0.0035 - recall_m: 0.0018 - precision_m: 0.0460 - val_loss: 1.2252 - val_acc: 0.4083 - val_f1_m: 0.0042 - val_recall_m: 0.0022 - val_precision_m: 0.0699\n",
      "Epoch 74/100\n",
      "3248/3248 [==============================] - 0s 134us/step - loss: 1.2417 - acc: 0.4292 - f1_m: 0.0048 - recall_m: 0.0025 - precision_m: 0.0739 - val_loss: 1.2253 - val_acc: 0.4105 - val_f1_m: 0.0042 - val_recall_m: 0.0022 - val_precision_m: 0.0699\n",
      "Epoch 75/100\n",
      "3248/3248 [==============================] - 0s 133us/step - loss: 1.2418 - acc: 0.4301 - f1_m: 0.0048 - recall_m: 0.0025 - precision_m: 0.0739 - val_loss: 1.2254 - val_acc: 0.4105 - val_f1_m: 0.0000e+00 - val_recall_m: 0.0000e+00 - val_precision_m: 0.0000e+00\n",
      "Epoch 76/100\n",
      "3248/3248 [==============================] - 0s 144us/step - loss: 1.2417 - acc: 0.4317 - f1_m: 0.0047 - recall_m: 0.0025 - precision_m: 0.0640 - val_loss: 1.2252 - val_acc: 0.4061 - val_f1_m: 0.0042 - val_recall_m: 0.0022 - val_precision_m: 0.0699\n",
      "Epoch 77/100\n",
      "3248/3248 [==============================] - 0s 135us/step - loss: 1.2418 - acc: 0.4307 - f1_m: 0.0036 - recall_m: 0.0018 - precision_m: 0.0542 - val_loss: 1.2252 - val_acc: 0.4061 - val_f1_m: 0.0000e+00 - val_recall_m: 0.0000e+00 - val_precision_m: 0.0000e+00\n",
      "Epoch 78/100\n",
      "3248/3248 [==============================] - 0s 140us/step - loss: 1.2418 - acc: 0.4310 - f1_m: 0.0047 - recall_m: 0.0025 - precision_m: 0.0722 - val_loss: 1.2254 - val_acc: 0.4083 - val_f1_m: 0.0000e+00 - val_recall_m: 0.0000e+00 - val_precision_m: 0.0000e+00\n",
      "Epoch 79/100\n",
      "3248/3248 [==============================] - 0s 138us/step - loss: 1.2419 - acc: 0.4289 - f1_m: 0.0047 - recall_m: 0.0025 - precision_m: 0.0690 - val_loss: 1.2252 - val_acc: 0.4061 - val_f1_m: 0.0042 - val_recall_m: 0.0022 - val_precision_m: 0.0699\n",
      "Epoch 80/100\n",
      "3248/3248 [==============================] - 1s 154us/step - loss: 1.2419 - acc: 0.4298 - f1_m: 0.0047 - recall_m: 0.0025 - precision_m: 0.0640 - val_loss: 1.2252 - val_acc: 0.4083 - val_f1_m: 0.0042 - val_recall_m: 0.0022 - val_precision_m: 0.0699\n",
      "Epoch 81/100\n",
      "3248/3248 [==============================] - 0s 133us/step - loss: 1.2418 - acc: 0.4320 - f1_m: 0.0036 - recall_m: 0.0018 - precision_m: 0.0591 - val_loss: 1.2250 - val_acc: 0.4083 - val_f1_m: 0.0000e+00 - val_recall_m: 0.0000e+00 - val_precision_m: 0.0000e+00\n",
      "Epoch 82/100\n",
      "3248/3248 [==============================] - 0s 127us/step - loss: 1.2417 - acc: 0.4326 - f1_m: 0.0047 - recall_m: 0.0025 - precision_m: 0.0690 - val_loss: 1.2251 - val_acc: 0.4083 - val_f1_m: 0.0042 - val_recall_m: 0.0022 - val_precision_m: 0.0699\n",
      "Epoch 83/100\n",
      "3248/3248 [==============================] - 0s 131us/step - loss: 1.2420 - acc: 0.4301 - f1_m: 0.0048 - recall_m: 0.0025 - precision_m: 0.0788 - val_loss: 1.2252 - val_acc: 0.4083 - val_f1_m: 0.0042 - val_recall_m: 0.0022 - val_precision_m: 0.0699\n",
      "Epoch 84/100\n",
      "3248/3248 [==============================] - 0s 127us/step - loss: 1.2417 - acc: 0.4307 - f1_m: 0.0047 - recall_m: 0.0025 - precision_m: 0.0690 - val_loss: 1.2254 - val_acc: 0.4105 - val_f1_m: 0.0042 - val_recall_m: 0.0022 - val_precision_m: 0.0699\n",
      "Epoch 85/100\n",
      "3248/3248 [==============================] - 0s 148us/step - loss: 1.2418 - acc: 0.4283 - f1_m: 0.0035 - recall_m: 0.0018 - precision_m: 0.0493 - val_loss: 1.2250 - val_acc: 0.4105 - val_f1_m: 0.0000e+00 - val_recall_m: 0.0000e+00 - val_precision_m: 0.0000e+00\n",
      "Epoch 86/100\n",
      "3248/3248 [==============================] - 0s 139us/step - loss: 1.2417 - acc: 0.4307 - f1_m: 0.0041 - recall_m: 0.0022 - precision_m: 0.0493 - val_loss: 1.2248 - val_acc: 0.4061 - val_f1_m: 0.0000e+00 - val_recall_m: 0.0000e+00 - val_precision_m: 0.0000e+00\n",
      "Epoch 87/100\n",
      "3248/3248 [==============================] - 0s 133us/step - loss: 1.2419 - acc: 0.4295 - f1_m: 0.0059 - recall_m: 0.0031 - precision_m: 0.0887 - val_loss: 1.2247 - val_acc: 0.4039 - val_f1_m: 0.0000e+00 - val_recall_m: 0.0000e+00 - val_precision_m: 0.0000e+00\n",
      "Epoch 88/100\n",
      "3248/3248 [==============================] - 0s 127us/step - loss: 1.2419 - acc: 0.4280 - f1_m: 0.0042 - recall_m: 0.0022 - precision_m: 0.0690 - val_loss: 1.2249 - val_acc: 0.4105 - val_f1_m: 0.0000e+00 - val_recall_m: 0.0000e+00 - val_precision_m: 0.0000e+00\n",
      "Epoch 89/100\n",
      "3248/3248 [==============================] - 0s 144us/step - loss: 1.2419 - acc: 0.4317 - f1_m: 0.0042 - recall_m: 0.0022 - precision_m: 0.0640 - val_loss: 1.2252 - val_acc: 0.4105 - val_f1_m: 0.0042 - val_recall_m: 0.0022 - val_precision_m: 0.0699\n",
      "Epoch 90/100\n",
      "3248/3248 [==============================] - 0s 145us/step - loss: 1.2417 - acc: 0.4292 - f1_m: 0.0048 - recall_m: 0.0025 - precision_m: 0.0788 - val_loss: 1.2250 - val_acc: 0.4105 - val_f1_m: 0.0042 - val_recall_m: 0.0022 - val_precision_m: 0.0699\n",
      "Epoch 91/100\n",
      "3248/3248 [==============================] - 1s 154us/step - loss: 1.2417 - acc: 0.4313 - f1_m: 0.0048 - recall_m: 0.0025 - precision_m: 0.0788 - val_loss: 1.2252 - val_acc: 0.4105 - val_f1_m: 0.0000e+00 - val_recall_m: 0.0000e+00 - val_precision_m: 0.0000e+00\n",
      "Epoch 92/100\n",
      "3248/3248 [==============================] - 0s 147us/step - loss: 1.2417 - acc: 0.4326 - f1_m: 0.0047 - recall_m: 0.0025 - precision_m: 0.0640 - val_loss: 1.2253 - val_acc: 0.4105 - val_f1_m: 0.0000e+00 - val_recall_m: 0.0000e+00 - val_precision_m: 0.0000e+00\n",
      "Epoch 93/100\n",
      "3248/3248 [==============================] - 0s 135us/step - loss: 1.2418 - acc: 0.4313 - f1_m: 0.0048 - recall_m: 0.0025 - precision_m: 0.0739 - val_loss: 1.2254 - val_acc: 0.4083 - val_f1_m: 0.0042 - val_recall_m: 0.0022 - val_precision_m: 0.0699\n",
      "Epoch 94/100\n",
      "3248/3248 [==============================] - 0s 132us/step - loss: 1.2419 - acc: 0.4298 - f1_m: 0.0042 - recall_m: 0.0022 - precision_m: 0.0690 - val_loss: 1.2251 - val_acc: 0.4061 - val_f1_m: 0.0000e+00 - val_recall_m: 0.0000e+00 - val_precision_m: 0.0000e+00\n",
      "Epoch 95/100\n",
      "3248/3248 [==============================] - 0s 141us/step - loss: 1.2417 - acc: 0.4298 - f1_m: 0.0047 - recall_m: 0.0025 - precision_m: 0.0640 - val_loss: 1.2251 - val_acc: 0.4061 - val_f1_m: 0.0000e+00 - val_recall_m: 0.0000e+00 - val_precision_m: 0.0000e+00\n",
      "Epoch 96/100\n",
      "3248/3248 [==============================] - 0s 138us/step - loss: 1.2418 - acc: 0.4298 - f1_m: 0.0041 - recall_m: 0.0022 - precision_m: 0.0591 - val_loss: 1.2256 - val_acc: 0.4105 - val_f1_m: 0.0000e+00 - val_recall_m: 0.0000e+00 - val_precision_m: 0.0000e+00\n",
      "Epoch 97/100\n",
      "3248/3248 [==============================] - 0s 141us/step - loss: 1.2417 - acc: 0.4307 - f1_m: 0.0048 - recall_m: 0.0025 - precision_m: 0.0788 - val_loss: 1.2253 - val_acc: 0.4083 - val_f1_m: 0.0042 - val_recall_m: 0.0022 - val_precision_m: 0.0699\n",
      "Epoch 98/100\n",
      "3248/3248 [==============================] - 0s 136us/step - loss: 1.2418 - acc: 0.4304 - f1_m: 0.0048 - recall_m: 0.0025 - precision_m: 0.0788 - val_loss: 1.2255 - val_acc: 0.4083 - val_f1_m: 0.0042 - val_recall_m: 0.0022 - val_precision_m: 0.0699\n",
      "Epoch 99/100\n",
      "3248/3248 [==============================] - 0s 139us/step - loss: 1.2418 - acc: 0.4304 - f1_m: 0.0047 - recall_m: 0.0025 - precision_m: 0.0640 - val_loss: 1.2255 - val_acc: 0.4061 - val_f1_m: 0.0000e+00 - val_recall_m: 0.0000e+00 - val_precision_m: 0.0000e+00\n",
      "Epoch 100/100\n",
      "3248/3248 [==============================] - 0s 133us/step - loss: 1.2419 - acc: 0.4301 - f1_m: 0.0048 - recall_m: 0.0025 - precision_m: 0.0788 - val_loss: 1.2255 - val_acc: 0.4105 - val_f1_m: 0.0042 - val_recall_m: 0.0022 - val_precision_m: 0.0699\n"
     ]
    },
    {
     "data": {
      "text/plain": [
       "<keras.callbacks.History at 0x7ff942861908>"
      ]
     },
     "execution_count": 31,
     "metadata": {
      "tags": []
     },
     "output_type": "execute_result"
    }
   ],
   "source": [
    "X_train_trm = trained_model.predict([X_train[:,0,:][:,:10000].reshape(-1,100,100,1),X_train[:,0,:][:,10000:10050].reshape(-1,50),X_train[:,0,:][:,10050:].reshape(-1,50)])\n",
    "X_test_trm = trained_model.predict([X_test[:,0,:][:,:10000].reshape(-1,100,100,1),X_test[:,0,:][:,10000:10050].reshape(-1,50),X_test[:,0,:][:,10050:].reshape(-1,50)])\n",
    "\n",
    "Classifier_input = Input((7,))\n",
    "\n",
    "Classifier_output = Dense(4, activation='softmax')(Classifier_input)\n",
    "Classifier_model = Model(Classifier_input, Classifier_output)\n",
    "\n",
    "\n",
    "Classifier_model.compile(optimizer='adam',loss='categorical_crossentropy',metrics=['accuracy',f1_m,recall_m,precision_m])\n",
    "\n",
    "Classifier_model.fit(X_train_trm,y_train_onehot, validation_data=(X_test_trm,y_test_onehot),epochs=100)"
   ]
  },
  {
   "cell_type": "code",
   "execution_count": 0,
   "metadata": {
    "colab": {
     "base_uri": "https://localhost:8080/",
     "height": 119
    },
    "colab_type": "code",
    "id": "8RWFnF6E2kRm",
    "outputId": "95b66c24-ed7a-4b4a-d276-3703abb21f2e"
   },
   "outputs": [
    {
     "name": "stdout",
     "output_type": "stream",
     "text": [
      "458/458 [==============================] - 0s 82us/step\n"
     ]
    },
    {
     "data": {
      "text/plain": [
       "[1.2254986232024614,\n",
       " 0.4104803494751193,\n",
       " 0.004234484189462454,\n",
       " 0.002183406113537118,\n",
       " 0.06986898730415445]"
      ]
     },
     "execution_count": 32,
     "metadata": {
      "tags": []
     },
     "output_type": "execute_result"
    }
   ],
   "source": [
    "Classifier_model.evaluate(x=X_test_trm,y=y_test_onehot)"
   ]
  },
  {
   "cell_type": "code",
   "execution_count": 0,
   "metadata": {
    "colab": {
     "base_uri": "https://localhost:8080/",
     "height": 34
    },
    "colab_type": "code",
    "id": "QVQGyxVS4Zum",
    "outputId": "b3e47fa6-efa7-4a05-f6d0-99bf7e32be16"
   },
   "outputs": [
    {
     "data": {
      "text/plain": [
       "['loss', 'acc', 'f1_m', 'recall_m', 'precision_m']"
      ]
     },
     "execution_count": 33,
     "metadata": {
      "tags": []
     },
     "output_type": "execute_result"
    }
   ],
   "source": [
    "Classifier_model.metrics_names"
   ]
  },
  {
   "cell_type": "code",
   "execution_count": 0,
   "metadata": {
    "colab": {
     "base_uri": "https://localhost:8080/",
     "height": 153
    },
    "colab_type": "code",
    "id": "FozyH1P8PXSc",
    "outputId": "561421c6-b571-47f0-e2db-e08e23c47df4"
   },
   "outputs": [
    {
     "name": "stdout",
     "output_type": "stream",
     "text": [
      "--2019-12-02 00:13:01--  http://imagenet.stanford.edu/internal/jcjohns/scene_graphs/sg_dataset.zip\n",
      "Resolving imagenet.stanford.edu (imagenet.stanford.edu)... 171.64.68.16\n",
      "Connecting to imagenet.stanford.edu (imagenet.stanford.edu)|171.64.68.16|:80... connected.\n",
      "HTTP request sent, awaiting response... 200 OK\n",
      "Length: 2000609775 (1.9G) [application/zip]\n",
      "Saving to: ‘sg_dataset.zip.1’\n",
      "\n",
      "sg_dataset.zip.1      0%[                    ]  15.02M  6.06MB/s               ^C\n"
     ]
    }
   ],
   "source": [
    "!wget http://imagenet.stanford.edu/internal/jcjohns/scene_graphs/sg_dataset.zip"
   ]
  },
  {
   "cell_type": "code",
   "execution_count": null,
   "metadata": {
    "colab": {
     "base_uri": "https://localhost:8080/",
     "height": 1000
    },
    "colab_type": "code",
    "id": "789CIhekeRaM",
    "outputId": "b33dc188-c3a7-4ccb-b99d-e632a73cf233"
   },
   "outputs": [],
   "source": [
    "!unzip /content/sg_dataset.zip\n"
   ]
  },
  {
   "cell_type": "code",
   "execution_count": 0,
   "metadata": {
    "colab": {},
    "colab_type": "code",
    "id": "eM1DCaXGPAPh"
   },
   "outputs": [],
   "source": [
    "import imageio\n",
    "filename = \"sg_dataset/sg_train_images/2637269067_618d25375b_o.jpg\"\n",
    "subject = \"banana\"\n",
    "predicate = \"next\"\n",
    "obj = \"bottle\"\n",
    "img = imageio.imread(filename)"
   ]
  },
  {
   "cell_type": "code",
   "execution_count": 0,
   "metadata": {
    "colab": {
     "base_uri": "https://localhost:8080/",
     "height": 269
    },
    "colab_type": "code",
    "id": "uxImEXwyejTq",
    "outputId": "6f34427e-e416-4798-ded6-0403efc062d6"
   },
   "outputs": [
    {
     "data": {
      "image/png": "[encoded data removed]",
      "text/plain": [
       "<Figure size 432x288 with 1 Axes>"
      ]
     },
     "metadata": {
      "tags": []
     },
     "output_type": "display_data"
    }
   ],
   "source": [
    "plt.imshow(img)\n",
    "plt.show()"
   ]
  },
  {
   "cell_type": "code",
   "execution_count": 0,
   "metadata": {
    "colab": {
     "base_uri": "https://localhost:8080/",
     "height": 51
    },
    "colab_type": "code",
    "id": "L2R6UNiafpZ-",
    "outputId": "d42ff6c1-eabe-4c6f-a28a-3c852138cdec"
   },
   "outputs": [
    {
     "name": "stdout",
     "output_type": "stream",
     "text": [
      "The autoreload extension is already loaded. To reload it, use:\n",
      "  %reload_ext autoreload\n"
     ]
    }
   ],
   "source": [
    "%load_ext autoreload\n",
    "%autoreload 2\n",
    "import torchvision\n",
    "import cv2\n",
    "from PIL import Image\n",
    "import matplotlib.pyplot as plt\n",
    "%matplotlib inline"
   ]
  },
  {
   "cell_type": "code",
   "execution_count": null,
   "metadata": {
    "colab": {
     "base_uri": "https://localhost:8080/",
     "height": 1000
    },
    "colab_type": "code",
    "id": "8UV8BZ_3fshi",
    "outputId": "dd067755-9ab8-418f-8081-457e8aecaada"
   },
   "outputs": [],
   "source": [
    "model2 = torchvision.models.detection.fasterrcnn_resnet50_fpn(pretrained=True)\n",
    "model2.eval()"
   ]
  },
  {
   "cell_type": "code",
   "execution_count": 0,
   "metadata": {
    "colab": {},
    "colab_type": "code",
    "id": "WXkB-fyBfZXz"
   },
   "outputs": [],
   "source": [
    "COCO_INSTANCE_CATEGORY_NAMES = [\n",
    "    '__background__', 'person', 'bicycle', 'car', 'motorcycle', 'airplane', 'bus',\n",
    "    'train', 'truck', 'boat', 'traffic light', 'fire hydrant', 'N/A', 'stop sign',\n",
    "    'parking meter', 'bench', 'bird', 'cat', 'dog', 'horse', 'sheep', 'cow',\n",
    "    'elephant', 'bear', 'zebra', 'giraffe', 'N/A', 'backpack', 'umbrella', 'N/A', 'N/A',\n",
    "    'handbag', 'tie', 'suitcase', 'frisbee', 'skis', 'snowboard', 'sports ball',\n",
    "    'kite', 'baseball bat', 'baseball glove', 'skateboard', 'surfboard', 'tennis racket',\n",
    "    'bottle', 'N/A', 'wine glass', 'cup', 'fork', 'knife', 'spoon', 'bowl',\n",
    "    'banana', 'apple', 'sandwich', 'orange', 'broccoli', 'carrot', 'hot dog', 'pizza',\n",
    "    'donut', 'cake', 'chair', 'couch', 'potted plant', 'bed', 'N/A', 'dining table',\n",
    "    'N/A', 'N/A', 'toilet', 'N/A', 'tv', 'laptop', 'mouse', 'remote', 'keyboard', 'cell phone',\n",
    "    'microwave', 'oven', 'toaster', 'sink', 'refrigerator', 'N/A', 'book',\n",
    "    'clock', 'vase', 'scissors', 'teddy bear', 'hair drier', 'toothbrush'\n",
    "]"
   ]
  },
  {
   "cell_type": "code",
   "execution_count": 0,
   "metadata": {
    "colab": {},
    "colab_type": "code",
    "id": "Vq3PRxq6fWpN"
   },
   "outputs": [],
   "source": [
    "from PIL import Image\n",
    "def get_prediction(img_path, threshold):\n",
    "  img = Image.open(img_path) # Load the image\n",
    "  transform = torchvision.transforms.Compose([torchvision.transforms.ToTensor()]) # Defing PyTorch Transform\n",
    "  img = transform(img) # Apply the transform to the image\n",
    "  pred = model2([img]) # Pass the image to the model\n",
    "  pred_class = [COCO_INSTANCE_CATEGORY_NAMES[i] for i in list(pred[0]['labels'].numpy())] # Get the Prediction Score\n",
    "  pred_boxes = [[(i[0], i[1]), (i[2], i[3])] for i in list(pred[0]['boxes'].detach().numpy())] # Bounding boxes\n",
    "  pred_score = list(pred[0]['scores'].detach().numpy())\n",
    "  pred_t = [pred_score.index(x) for x in pred_score if x > threshold][-1] # Get list of index with score greater than threshold.\n",
    "  pred_boxes = pred_boxes[:pred_t+1]\n",
    "  pred_class = pred_class[:pred_t+1]\n",
    "  return pred_boxes, pred_class"
   ]
  },
  {
   "cell_type": "code",
   "execution_count": 0,
   "metadata": {
    "colab": {},
    "colab_type": "code",
    "id": "ojPYzj13fH0D"
   },
   "outputs": [],
   "source": [
    "import numpy as np\n",
    "def object_detection_api(img_path, sub, obj, threshold=0.5, rect_th=3, text_size=3, text_th=3):\n",
    "  print(\"here\")\n",
    "  boxes, pred_cls = get_prediction(img_path, threshold) # Get predictions\n",
    "  img = cv2.imread(img_path) # Read image with cv2\n",
    "  img = cv2.cvtColor(img, cv2.COLOR_BGR2RGB) # Convert to RGB\n",
    "  \n",
    "  sub_list=[]\n",
    "  obj_list=[]\n",
    "\n",
    "  for i in range(len(boxes)):\n",
    "    print(pred_cls[i])\n",
    "    if(pred_cls[i]==sub):\n",
    "      sub_list.append(i)\n",
    "    if(pred_cls[i]==obj):\n",
    "      obj_list.append(i)\n",
    "\n",
    "  imgList = []\n",
    "  # print(sub_list)\n",
    "  # print(obj_list)\n",
    "\n",
    "  for i1 in range(len(sub_list)):\n",
    "    for j1 in range(len(obj_list)):\n",
    "      print(i1,\" \",j1)\n",
    "      if(sub_list[i1]==obj_list[j1]):\n",
    "        continue\n",
    "      plt.clf()\n",
    "      img1 = np.array(img)\n",
    "      img2 = np.array(img)\n",
    "      img1 = img1*0.0\n",
    "      i = sub_list[i1]\n",
    "      # print(boxes[i])\n",
    "      # print(int(min(boxes[i][1])),\" \",int(max(boxes[i][1])),\" : \",int(min(boxes[i][0])),\" \",int(max(boxes[i][0])))\n",
    "      img_bbox = np.zeros(shape=[8], dtype=np.int32)\n",
    "      img_bbox[0] = int(min(boxes[i][0][1], boxes[i][1][1]))\n",
    "      img_bbox[1] = int(max(boxes[i][0][1], boxes[i][1][1]))\n",
    "      img_bbox[2] = int(min(boxes[i][0][0], boxes[i][1][0]))\n",
    "      img_bbox[3] = int(max(boxes[i][0][0], boxes[i][1][0]))\n",
    "      img1[int(min(boxes[i][0][1], boxes[i][1][1])):int(max(boxes[i][0][1], boxes[i][1][1])), int(min(boxes[i][0][0], boxes[i][1][0])):int(max(boxes[i][0][0], boxes[i][1][0]))] = 0.5\n",
    "      \n",
    "      i = obj_list[j1]\n",
    "      # print(boxes[i])\n",
    "      img_bbox[4] = int(min(boxes[i][0][1], boxes[i][1][1]))\n",
    "      img_bbox[5] = int(max(boxes[i][0][1], boxes[i][1][1]))\n",
    "      img_bbox[6] = int(min(boxes[i][0][0], boxes[i][1][0]))\n",
    "      img_bbox[7] = int(max(boxes[i][0][0], boxes[i][1][0]))\n",
    "\n",
    "      imgList.append(img_bbox)\n",
    "\n",
    "      # print(int(min(boxes[i][1])),\" \",int(max(boxes[i][1])),\" : \",int(min(boxes[i][0])),\" \",int(max(boxes[i][0])))\n",
    "      img1[int(min(boxes[i][0][1], boxes[i][1][1])):int(max(boxes[i][0][1], boxes[i][1][1])), int(min(boxes[i][0][0], boxes[i][1][0])):int(max(boxes[i][0][0], boxes[i][1][0]))] += 1.0\n",
    "      img1[int(min(boxes[i][0][1], boxes[i][1][1])):int(max(boxes[i][0][1], boxes[i][1][1])), int(min(boxes[i][0][0], boxes[i][1][0])):int(max(boxes[i][0][0], boxes[i][1][0]))] /= 2.0\n",
    "      img1[int(min(boxes[i][0][1], boxes[i][1][1])):int(max(boxes[i][0][1], boxes[i][1][1])), int(min(boxes[i][0][0], boxes[i][1][0])):int(max(boxes[i][0][0], boxes[i][1][0]))] /= 0.75\n",
    "      # plt.subplot(121)\n",
    "      # plt.imshow(img1)\n",
    "      \n",
    "\n",
    "      i = sub_list[i1]\n",
    "      cv2.rectangle(img2, boxes[i][0], boxes[i][1],color=(0, 255, 0), thickness=rect_th) # Draw Rectangle with the coordinates\n",
    "      cv2.putText(img2,pred_cls[i], boxes[i][0],  cv2.FONT_HERSHEY_SIMPLEX, text_size, (0,255,0),thickness=text_th) # Write the prediction class\n",
    "\n",
    "      \n",
    "\n",
    "      \n",
    "      i = obj_list[j1]\n",
    "\n",
    "      cv2.rectangle(img2, boxes[i][0], boxes[i][1],color=(0, 255, 0), thickness=rect_th) # Draw Rectangle with the coordinates\n",
    "      cv2.putText(img2,pred_cls[i], boxes[i][0],  cv2.FONT_HERSHEY_SIMPLEX, text_size, (0,255,0),thickness=text_th) # Write the prediction class\n",
    "      # plt.subplot(122)\n",
    "      # plt.imshow(img2)\n",
    "      # plt.show()\n",
    "  \n",
    "  final_img_bbox = np.zeros(shape=[len(imgList),8], dtype=np.int32)\n",
    "  for i in range(len(imgList)):\n",
    "    final_img_bbox[i,:] = imgList[i]\n",
    "  return final_img_bbox"
   ]
  },
  {
   "cell_type": "code",
   "execution_count": 0,
   "metadata": {
    "colab": {},
    "colab_type": "code",
    "id": "ww_r2ZzugKgd"
   },
   "outputs": [],
   "source": [
    "def rgb2gray(rgb):\n",
    "      return np.dot(rgb[...,:3], [0.2989, 0.5870, 0.1140])  \n"
   ]
  },
  {
   "cell_type": "code",
   "execution_count": 0,
   "metadata": {
    "colab": {
     "base_uri": "https://localhost:8080/",
     "height": 1000
    },
    "colab_type": "code",
    "id": "zfee1jrvfASz",
    "outputId": "de27bcf5-afa8-46ee-d0bb-79b14b9584d5"
   },
   "outputs": [
    {
     "name": "stdout",
     "output_type": "stream",
     "text": [
      "here\n",
      "person\n",
      "bottle\n",
      "banana\n",
      "bottle\n",
      "sandwich\n",
      "sink\n",
      "bottle\n",
      "0   0\n",
      "0   1\n",
      "0   2\n"
     ]
    },
    {
     "data": {
      "image/png": "[encoded data removed]",
      "text/plain": [
       "<Figure size 432x288 with 1 Axes>"
      ]
     },
     "metadata": {
      "tags": []
     },
     "output_type": "display_data"
    },
    {
     "name": "stdout",
     "output_type": "stream",
     "text": [
      "[[0.34211048 0.40512177 0.1811652  0.07160251]]\n"
     ]
    },
    {
     "data": {
      "image/png": "[encoded data removed]",
      "text/plain": [
       "<Figure size 432x288 with 1 Axes>"
      ]
     },
     "metadata": {
      "tags": []
     },
     "output_type": "display_data"
    },
    {
     "name": "stdout",
     "output_type": "stream",
     "text": [
      "[[0.3241319  0.42244178 0.17100213 0.08242419]]\n"
     ]
    },
    {
     "data": {
      "image/png": "[encoded data removed]",
      "text/plain": [
       "<Figure size 432x288 with 1 Axes>"
      ]
     },
     "metadata": {
      "tags": []
     },
     "output_type": "display_data"
    },
    {
     "name": "stdout",
     "output_type": "stream",
     "text": [
      "[[0.39079693 0.37540415 0.14799595 0.08580296]]\n"
     ]
    }
   ],
   "source": [
    "bboxes = object_detection_api(filename, subject, obj)\n",
    "\n",
    "for i in range(bboxes.shape[0]):\n",
    "  img1 = np.array(img)\n",
    "  img1 = img1*0.0\n",
    "\n",
    "  img1[bboxes[i,0]:bboxes[i,1], bboxes[i,2]:bboxes[i,3]] = 0.5    \n",
    "  img1[bboxes[i,4]:bboxes[i,5], bboxes[i,6]:bboxes[i,7]] += 1.0\n",
    "  img1[bboxes[i,4]:bboxes[i,5], bboxes[i,6]:bboxes[i,7]] /= 2.0\n",
    "  img1[bboxes[i,4]:bboxes[i,5], bboxes[i,6]:bboxes[i,7]] /= 0.75\n",
    "  img1 = rgb2gray(img1)\n",
    "  img1 = np.array((img1 * 255).astype(np.uint8))\n",
    "  img1 = Image.fromarray(img1)\n",
    "  img1 = img1.resize((100, 100), Image.ANTIALIAS)\n",
    "\n",
    "  img1 = np.array(img1)\n",
    "  img1 = img1/255.0\n",
    "  \n",
    "  plt.imshow(img1)\n",
    "  plt.show()\n",
    "\n",
    "  img1 = np.reshape(img1, newshape=[1,img1.shape[0],img1.shape[1],1])\n",
    "\n",
    "  X_trm = trained_model.predict(img1)\n",
    "  y_pred = Classifier_model.predict(x=X_trm)\n",
    "  print(y_pred)"
   ]
  },
  {
   "cell_type": "code",
   "execution_count": 0,
   "metadata": {
    "colab": {
     "base_uri": "https://localhost:8080/",
     "height": 34
    },
    "colab_type": "code",
    "id": "6CM4Z3ECBNdz",
    "outputId": "a9890685-5cdb-4524-99d5-d87dff1e085c"
   },
   "outputs": [
    {
     "name": "stdout",
     "output_type": "stream",
     "text": [
      "Drive already mounted at /content/drive; to attempt to forcibly remount, call drive.mount(\"/content/drive\", force_remount=True).\n"
     ]
    }
   ],
   "source": [
    "from google.colab import drive\n",
    "drive.mount('/content/drive')\n"
   ]
  },
  {
   "cell_type": "code",
   "execution_count": 0,
   "metadata": {
    "colab": {},
    "colab_type": "code",
    "id": "hw8gkgesBOtG"
   },
   "outputs": [],
   "source": []
  }
 ],
 "metadata": {
  "accelerator": "GPU",
  "colab": {
   "collapsed_sections": [],
   "machine_shape": "hm",
   "name": "TripletLossNN.ipynb",
   "provenance": [],
   "toc_visible": true
  },
  "kernelspec": {
   "display_name": "Python 3",
   "language": "python",
   "name": "python3"
  },
  "language_info": {
   "codemirror_mode": {
    "name": "ipython",
    "version": 3
   },
   "file_extension": ".py",
   "mimetype": "text/x-python",
   "name": "python",
   "nbconvert_exporter": "python",
   "pygments_lexer": "ipython3",
   "version": "3.7.4"
  }
 },
 "nbformat": 4,
 "nbformat_minor": 1
}
